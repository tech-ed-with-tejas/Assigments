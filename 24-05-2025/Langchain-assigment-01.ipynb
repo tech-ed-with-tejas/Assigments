{
 "cells": [
  {
   "cell_type": "markdown",
   "metadata": {},
   "source": [
    "### Assisgment:\n",
    "Create a simple assistant that uses any LLM and should be pydantic, when we ask about any product it should give you two information product Name, product details tentative price in USD (integer). use chat Prompt Template.\n"
   ]
  },
  {
   "cell_type": "code",
   "execution_count": 2,
   "metadata": {},
   "outputs": [
    {
     "data": {
      "text/plain": [
       "True"
      ]
     },
     "execution_count": 2,
     "metadata": {},
     "output_type": "execute_result"
    }
   ],
   "source": [
    "import os \n",
    "from pathlib import Path \n",
    "from dotenv import load_dotenv\n",
    "current_script_dir = Path().parent\n",
    "dotenv_file_path = Path.cwd().parent  / '.env'\n",
    "dotenv_file_path = dotenv_file_path.resolve()\n",
    "load_dotenv(dotenv_path=dotenv_file_path)"
   ]
  },
  {
   "cell_type": "code",
   "execution_count": 3,
   "metadata": {},
   "outputs": [],
   "source": [
    "os.environ['OPENAI_API_KEY'] = os.getenv(\"OPENAI_API_KEY\")\n",
    "os.environ['GROQ_API_KEY'] = os.getenv(\"GROQ_API_KEY\")\n",
    "os.environ['LANGCHAIN_API_KEY'] = os.getenv(\"LANGCHAIN_API_KEY\")\n",
    "os.environ['LANGCHAIN_PROJECT'] = os.getenv(\"LANGCHAIN_PROJECT\")\n",
    "os.environ['LANGCHAIN_TRACING_V2'] = \"true\""
   ]
  },
  {
   "cell_type": "code",
   "execution_count": 43,
   "metadata": {},
   "outputs": [],
   "source": [
    "from langchain_groq import ChatGroq\n",
    "from langchain_core.prompts import ChatPromptTemplate,PromptTemplate\n",
    "from langchain_core.output_parsers import JsonOutputParser,PydanticOutputParser\n",
    "from pydantic import BaseModel,Field\n",
    "from langchain_openai import ChatOpenAI\n",
    "from typing import List"
   ]
  },
  {
   "cell_type": "code",
   "execution_count": 47,
   "metadata": {},
   "outputs": [],
   "source": [
    "class Productdetails(BaseModel):\n",
    "    \"This class contains the details information about the product like product name, price in USD and product Description\"\n",
    "    productname: str =Field(default=\"unknown\",description=\"Name of the product\")\n",
    "    productdescription :str = Field(default=\"unknown\",description=\"Details of the product\")\n",
    "    price_USD:int = Field(description=\"price in USD\",default=0)\n",
    "   \n"
   ]
  },
  {
   "cell_type": "code",
   "execution_count": 49,
   "metadata": {},
   "outputs": [
    {
     "data": {
      "text/plain": [
       "Productdetails(productname='dfhg', productdescription='skgvb', price_USD=789)"
      ]
     },
     "execution_count": 49,
     "metadata": {},
     "output_type": "execute_result"
    }
   ],
   "source": [
    "Productdetails(**{\"productname\":\"dfhg\",\"productdescription\":\"skgvb\",\"price_USD\":789})"
   ]
  },
  {
   "cell_type": "code",
   "execution_count": 21,
   "metadata": {},
   "outputs": [],
   "source": [
    "prompt = ChatPromptTemplate([\n",
    "    (\"system\",\"Your are a simple AI Assitant.Provide all your outputs in json format. \\\n",
    "    Your job is to provide the product name , product details and price(you can give an estimated price based on your knowldge) based on the user input.If you dont know about a particular product please say unknown \"),\n",
    "    (\"user\",\"{input}\")\n",
    "])"
   ]
  },
  {
   "cell_type": "code",
   "execution_count": 22,
   "metadata": {},
   "outputs": [],
   "source": [
    "model= ChatGroq(model=\"gemma2-9b-it\")"
   ]
  },
  {
   "cell_type": "code",
   "execution_count": null,
   "metadata": {},
   "outputs": [],
   "source": [
    "output_parser = JsonOutputParser(pydantic_object=Productdetails)"
   ]
  },
  {
   "cell_type": "code",
   "execution_count": 26,
   "metadata": {},
   "outputs": [],
   "source": [
    "chain = prompt | model |output_parser"
   ]
  },
  {
   "cell_type": "code",
   "execution_count": 27,
   "metadata": {},
   "outputs": [
    {
     "data": {
      "text/plain": [
       "{'product_name': 'iPhone 13 Pro',\n",
       " 'product_details': 'A premium smartphone with a 6.1-inch Super Retina XDR display, a triple-camera system featuring a telephoto lens, A15 Bionic chip, and up to 1TB of storage.',\n",
       " 'price': 999}"
      ]
     },
     "execution_count": 27,
     "metadata": {},
     "output_type": "execute_result"
    }
   ],
   "source": [
    "chain.invoke({\"input\":\"what you think about Iphone 13 pro\"})"
   ]
  },
  {
   "cell_type": "code",
   "execution_count": 28,
   "metadata": {},
   "outputs": [
    {
     "data": {
      "text/plain": [
       "{'status': 'ready',\n",
       " 'message': \"Hi! I'm ready to help. What product are you interested in?\"}"
      ]
     },
     "execution_count": 28,
     "metadata": {},
     "output_type": "execute_result"
    }
   ],
   "source": [
    "chain.invoke({\"input\":\"Hi\"})"
   ]
  },
  {
   "cell_type": "code",
   "execution_count": 29,
   "metadata": {},
   "outputs": [
    {
     "data": {
      "text/plain": [
       "{'product_name': 'Smart Ring',\n",
       " 'product_details': 'A smart ring is a wearable electronic device that is worn on the finger. It can track fitness data, control smart devices, and provide other features like contactless payments and notifications.',\n",
       " 'price': 'Estimated price: $100 - $500'}"
      ]
     },
     "execution_count": 29,
     "metadata": {},
     "output_type": "execute_result"
    }
   ],
   "source": [
    "chain.invoke({\"input\":\"what you think about samrt ring\"})"
   ]
  },
  {
   "cell_type": "code",
   "execution_count": 32,
   "metadata": {},
   "outputs": [],
   "source": [
    "# other methods"
   ]
  },
  {
   "cell_type": "code",
   "execution_count": 59,
   "metadata": {},
   "outputs": [],
   "source": [
    "class Products(BaseModel):\n",
    "    'Contains List of all the products'\n",
    "    products:List[Productdetails] = Field(description=\"A list of product information objects.\")\n",
    "parser = PydanticOutputParser(pydantic_object=Products)\n",
    "prompt2 = PromptTemplate(\n",
    "    template=\"\"\"You are a highly skilled product information extractor.\n",
    "Your task is to identify and extract product name from the user's query.And respond with product name,product description and price.\n",
    "{format_instructions}\n",
    "If multiple products are mentioned, extract information for all of them.\n",
    "If a price is not exact, provide a approximate value.\n",
    "\n",
    "User Query: {query}\n",
    "\"\"\",\n",
    "    input_variables=[\"query\"],\n",
    "    partial_variables={\"format_instructions\": parser.get_format_instructions()},\n",
    ")\n",
    "openai_model = ChatOpenAI(model=\"o1-mini\")\n",
    "chain2 = prompt2|openai_model|parser"
   ]
  },
  {
   "cell_type": "code",
   "execution_count": 60,
   "metadata": {},
   "outputs": [],
   "source": [
    "response2 = chain2.invoke({\"query\":\"what you think about iphone and samsung\"})"
   ]
  },
  {
   "cell_type": "code",
   "execution_count": 62,
   "metadata": {},
   "outputs": [
    {
     "name": "stdout",
     "output_type": "stream",
     "text": [
      "iPhone 15 \n",
      "\n",
      "Apple's latest smartphone featuring improved cameras, enhanced performance with the new A17 chip, and longer battery life. \n",
      "\n",
      "999 \n",
      "\n",
      "Samsung Galaxy S23 \n",
      "\n",
      "Samsung's flagship smartphone with a dynamic AMOLED display, powerful performance, and versatile camera system. \n",
      "\n",
      "799 \n",
      "\n"
     ]
    }
   ],
   "source": [
    "for i in response2.products:\n",
    "    print(i.productname,\"\\n\")\n",
    "    print(i.productdescription,\"\\n\")\n",
    "    print(i.price_USD,\"\\n\")"
   ]
  },
  {
   "cell_type": "code",
   "execution_count": null,
   "metadata": {},
   "outputs": [],
   "source": []
  }
 ],
 "metadata": {
  "kernelspec": {
   "display_name": "langchain",
   "language": "python",
   "name": "python3"
  },
  "language_info": {
   "codemirror_mode": {
    "name": "ipython",
    "version": 3
   },
   "file_extension": ".py",
   "mimetype": "text/x-python",
   "name": "python",
   "nbconvert_exporter": "python",
   "pygments_lexer": "ipython3",
   "version": "3.12.9"
  }
 },
 "nbformat": 4,
 "nbformat_minor": 2
}
