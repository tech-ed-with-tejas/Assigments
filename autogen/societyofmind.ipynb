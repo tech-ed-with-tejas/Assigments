{
 "cells": [
  {
   "cell_type": "code",
   "execution_count": 1,
   "metadata": {},
   "outputs": [],
   "source": [
    "import os \n",
    "from pathlib import Path \n",
    "from dotenv import load_dotenv\n",
    "current_script_dir = Path().parent\n",
    "dotenv_file_path = Path.cwd().parent  / '.env'\n",
    "dotenv_file_path = dotenv_file_path.resolve()\n",
    "load_dotenv(dotenv_path=dotenv_file_path)\n",
    "api_key = os.getenv('OPENAI_API_KEY')"
   ]
  },
  {
   "cell_type": "code",
   "execution_count": 2,
   "metadata": {},
   "outputs": [],
   "source": [
    "from autogen_agentchat.agents import AssistantAgent\n",
    "from autogen_ext.models.openai import OpenAIChatCompletionClient\n",
    "from autogen_agentchat.conditions import TextMentionTermination,MaxMessageTermination\n",
    "from autogen_agentchat.teams import SelectorGroupChat\n",
    "model_client = OpenAIChatCompletionClient(model='gpt-4o', api_key=api_key)\n"
   ]
  },
  {
   "cell_type": "code",
   "execution_count": 3,
   "metadata": {},
   "outputs": [],
   "source": [
    "planning_agent = AssistantAgent(\n",
    "    name=\"PlanningAgent\",\n",
    "    description=\"An agent for planning tasks, this agent should be the first to engage when given a new task.\",\n",
    "    model_client=model_client,\n",
    "    system_message=\"\"\"\n",
    "    You are a planning agent.\n",
    "    Your job is to break down complex tasks into smaller, manageable subtasks.\n",
    "    Your team members are:\n",
    "        WebSearchAgent: Searches for information\n",
    "        DataAnalystAgent: Performs calculations\n",
    "\n",
    "    You only plan and delegate tasks - you do not execute them yourself.\n",
    "\n",
    "    When assigning tasks, use this format:\n",
    "    1. <agent> : <task>\n",
    "\n",
    "    After all tasks are complete, summarize the findings and end with \"TERMINATE\".\n",
    "    \"\"\",\n",
    ")"
   ]
  },
  {
   "cell_type": "code",
   "execution_count": 4,
   "metadata": {},
   "outputs": [],
   "source": [
    "def search_web_tool(query:str)-> str:\n",
    "    # Simulate a web search\n",
    "    if \"2006-2007\" in query:\n",
    "        return \"\"\"Here are the total points scored by Miami Heat players in the 2006-2007 season:\n",
    "        Udonis Haslem: 844 points\n",
    "        Dwayne Wade: 1397 points\n",
    "        James Posey: 550 points\n",
    "        ...\n",
    "        \"\"\"\n",
    "    elif \"2007-2008\" in query:\n",
    "        return \"The number of total rebounds for Dwayne Wade in the Miami Heat season 2007-2008 is 214.\"\n",
    "    elif \"2008-2009\" in query:\n",
    "        return \"The number of total rebounds for Dwayne Wade in the Miami Heat season 2008-2009 is 398.\"\n",
    "    return \"No data found.\""
   ]
  },
  {
   "cell_type": "code",
   "execution_count": 5,
   "metadata": {},
   "outputs": [],
   "source": [
    "web_search_agent = AssistantAgent(\n",
    "    name = 'WebSearchAgent',\n",
    "    description= 'An agent for searching the web for information.',\n",
    "    model_client=model_client,\n",
    "    tools = [search_web_tool],\n",
    "    reflect_on_tool_use=False,\n",
    "    system_message='''\n",
    "        You are a web search agent.\n",
    "        Your only tool is search_web - use it to find the information you need.\n",
    "\n",
    "        You make only one search call at a time.\n",
    "        \n",
    "        Once you have the results, you never do calculations or data analysis on them.\n",
    "    ''',\n",
    ")"
   ]
  },
  {
   "cell_type": "code",
   "execution_count": 6,
   "metadata": {},
   "outputs": [],
   "source": [
    "\n",
    "def percentage_change_tool(start:float, end:float) -> float:\n",
    "    # Calculate percentage change\n",
    "    if start == 0:\n",
    "        return 0\n",
    "    return ((end - start) / start) * 100"
   ]
  },
  {
   "cell_type": "code",
   "execution_count": 7,
   "metadata": {},
   "outputs": [],
   "source": [
    "data_analyst_agent = AssistantAgent(\n",
    "    name = 'DataAnalystAgent',\n",
    "    description= 'An agent for performing calculations and data analysis.',\n",
    "    model_client=model_client,\n",
    "    tools= [percentage_change_tool],\n",
    "    system_message='''\n",
    "        You are a data analyst agent.\n",
    "        Given the tasks you have been assigned, you should analyze the data and provide results using the tools provided (percentage_change_tool).\n",
    "\n",
    "        If you have not seen the data, ask for it.\n",
    "\n",
    "    ''',\n",
    ")"
   ]
  },
  {
   "cell_type": "code",
   "execution_count": 8,
   "metadata": {},
   "outputs": [],
   "source": [
    "text_message_termination = TextMentionTermination(\"TERMINATE\")\n",
    "max_message_termination = MaxMessageTermination(10)\n",
    "combined_termination = text_message_termination | max_message_termination\n"
   ]
  },
  {
   "cell_type": "code",
   "execution_count": 9,
   "metadata": {},
   "outputs": [],
   "source": [
    "selector_prompt = '''\n",
    "Select an agent to perform the task.\n",
    "\n",
    "{roles}\n",
    "\n",
    "current conversation history :\n",
    "{history}\n",
    "\n",
    "Read the above conversation, then select an agent from {participants} to perform the next task.\n",
    "Make sure that the planning agent has assigned task before other agents start working.\n",
    "Only select one agent.\n",
    "'''"
   ]
  },
  {
   "cell_type": "code",
   "execution_count": 10,
   "metadata": {},
   "outputs": [],
   "source": [
    "selector_team = SelectorGroupChat(\n",
    "    participants=[planning_agent, web_search_agent, data_analyst_agent],\n",
    "    model_client=model_client,\n",
    "    termination_condition=combined_termination,\n",
    "    selector_prompt=selector_prompt,\n",
    "    allow_repeated_speaker=True)"
   ]
  },
  {
   "cell_type": "code",
   "execution_count": 11,
   "metadata": {},
   "outputs": [],
   "source": [
    "from autogen_agentchat.agents import SocietyOfMindAgent  # noqa: E402\n",
    "society_of_mind_agent = SocietyOfMindAgent(\"society_of_mind\", team=selector_team, model_client=model_client)\n",
    "task = \"Who was the Miami Heat player with the highest point in the 2006-2007 season, and what was the percentage change in his total rebounds between the 2007-2008 and 2008-2009 seasons?\"\n"
   ]
  },
  {
   "cell_type": "code",
   "execution_count": 12,
   "metadata": {},
   "outputs": [
    {
     "name": "stdout",
     "output_type": "stream",
     "text": [
      "---------- user ----------\n",
      "Who was the Miami Heat player with the highest point in the 2006-2007 season, and what was the percentage change in his total rebounds between the 2007-2008 and 2008-2009 seasons?\n",
      "---------- PlanningAgent ----------\n",
      "To find the information requested, we'll need to take the following steps:\n",
      "\n",
      "1. Determine who the top scorer for the Miami Heat was in the 2006-2007 season.\n",
      "2. Obtain the total rebounds for that player in the 2007-2008 and 2008-2009 seasons.\n",
      "3. Calculate the percentage change in total rebounds between these two seasons.\n",
      "\n",
      "Let's assign these tasks:\n",
      "\n",
      "1. WebSearchAgent: Identify the Miami Heat player with the highest points in the 2006-2007 season.\n",
      "2. WebSearchAgent: Find the total rebounds for that player in the 2007-2008 season.\n",
      "3. WebSearchAgent: Find the total rebounds for that player in the 2008-2009 season.\n",
      "4. DataAnalystAgent: Calculate the percentage change in total rebounds between 2007-2008 and 2008-2009 for the identified player.\n",
      "---------- WebSearchAgent ----------\n",
      "[FunctionCall(id='call_TbbfjFhnfsNjTRROoPd6q3vw', arguments='{\"query\":\"Miami Heat player with highest points in 2006-2007 season\"}', name='search_web_tool')]\n",
      "---------- WebSearchAgent ----------\n",
      "[FunctionExecutionResult(content='Here are the total points scored by Miami Heat players in the 2006-2007 season:\\n        Udonis Haslem: 844 points\\n        Dwayne Wade: 1397 points\\n        James Posey: 550 points\\n        ...\\n        ', name='search_web_tool', call_id='call_TbbfjFhnfsNjTRROoPd6q3vw', is_error=False)]\n",
      "---------- WebSearchAgent ----------\n",
      "Here are the total points scored by Miami Heat players in the 2006-2007 season:\n",
      "        Udonis Haslem: 844 points\n",
      "        Dwayne Wade: 1397 points\n",
      "        James Posey: 550 points\n",
      "        ...\n",
      "        \n",
      "---------- WebSearchAgent ----------\n",
      "[FunctionCall(id='call_sJw3w0kWOkWZsWyk8D0VxrVV', arguments='{\"query\": \"Dwyane Wade total rebounds 2007-2008 season\"}', name='search_web_tool'), FunctionCall(id='call_x5XTJGvrTLUwomXGm6o77U0Y', arguments='{\"query\": \"Dwyane Wade total rebounds 2008-2009 season\"}', name='search_web_tool')]\n",
      "---------- WebSearchAgent ----------\n",
      "[FunctionExecutionResult(content='The number of total rebounds for Dwayne Wade in the Miami Heat season 2007-2008 is 214.', name='search_web_tool', call_id='call_sJw3w0kWOkWZsWyk8D0VxrVV', is_error=False), FunctionExecutionResult(content='The number of total rebounds for Dwayne Wade in the Miami Heat season 2008-2009 is 398.', name='search_web_tool', call_id='call_x5XTJGvrTLUwomXGm6o77U0Y', is_error=False)]\n",
      "---------- WebSearchAgent ----------\n",
      "The number of total rebounds for Dwayne Wade in the Miami Heat season 2007-2008 is 214.\n",
      "The number of total rebounds for Dwayne Wade in the Miami Heat season 2008-2009 is 398.\n",
      "---------- DataAnalystAgent ----------\n",
      "[FunctionCall(id='call_DHxYaZvAsM1ZpUxTnLiXJ18H', arguments='{\"start\":214,\"end\":398}', name='percentage_change_tool')]\n",
      "---------- DataAnalystAgent ----------\n",
      "[FunctionExecutionResult(content='85.98130841121495', name='percentage_change_tool', call_id='call_DHxYaZvAsM1ZpUxTnLiXJ18H', is_error=False)]\n",
      "---------- DataAnalystAgent ----------\n",
      "85.98130841121495\n",
      "---------- DataAnalystAgent ----------\n",
      "The Miami Heat player with the highest points in the 2006-2007 season was Dwayne Wade, with 1,397 points. The percentage change in his total rebounds between the 2007-2008 season (214 rebounds) and the 2008-2009 season (398 rebounds) was approximately 85.98%.\n",
      "---------- PlanningAgent ----------\n",
      "The top scorer for the Miami Heat in the 2006-2007 season was Dwayne Wade, with 1,397 points. There was an approximate 85.98% increase in Dwayne Wade's total rebounds between the 2007-2008 season (214 rebounds) and the 2008-2009 season (398 rebounds). TERMINATE\n",
      "---------- society_of_mind ----------\n",
      "Dwayne Wade was the top scorer for the Miami Heat in the 2006-2007 season, with 1,397 points. His total rebounds increased from 214 in the 2007-2008 season to 398 in the 2008-2009 season, marking an approximate 85.98% increase in total rebounds between those two seasons.\n"
     ]
    },
    {
     "data": {
      "text/plain": [
       "TaskResult(messages=[TextMessage(source='user', models_usage=None, metadata={}, content='Who was the Miami Heat player with the highest point in the 2006-2007 season, and what was the percentage change in his total rebounds between the 2007-2008 and 2008-2009 seasons?', type='TextMessage'), TextMessage(source='PlanningAgent', models_usage=RequestUsage(prompt_tokens=161, completion_tokens=185), metadata={}, content=\"To find the information requested, we'll need to take the following steps:\\n\\n1. Determine who the top scorer for the Miami Heat was in the 2006-2007 season.\\n2. Obtain the total rebounds for that player in the 2007-2008 and 2008-2009 seasons.\\n3. Calculate the percentage change in total rebounds between these two seasons.\\n\\nLet's assign these tasks:\\n\\n1. WebSearchAgent: Identify the Miami Heat player with the highest points in the 2006-2007 season.\\n2. WebSearchAgent: Find the total rebounds for that player in the 2007-2008 season.\\n3. WebSearchAgent: Find the total rebounds for that player in the 2008-2009 season.\\n4. DataAnalystAgent: Calculate the percentage change in total rebounds between 2007-2008 and 2008-2009 for the identified player.\", type='TextMessage'), ToolCallRequestEvent(source='WebSearchAgent', models_usage=RequestUsage(prompt_tokens=339, completion_tokens=28), metadata={}, content=[FunctionCall(id='call_TbbfjFhnfsNjTRROoPd6q3vw', arguments='{\"query\":\"Miami Heat player with highest points in 2006-2007 season\"}', name='search_web_tool')], type='ToolCallRequestEvent'), ToolCallExecutionEvent(source='WebSearchAgent', models_usage=None, metadata={}, content=[FunctionExecutionResult(content='Here are the total points scored by Miami Heat players in the 2006-2007 season:\\n        Udonis Haslem: 844 points\\n        Dwayne Wade: 1397 points\\n        James Posey: 550 points\\n        ...\\n        ', name='search_web_tool', call_id='call_TbbfjFhnfsNjTRROoPd6q3vw', is_error=False)], type='ToolCallExecutionEvent'), ToolCallSummaryMessage(source='WebSearchAgent', models_usage=None, metadata={}, content='Here are the total points scored by Miami Heat players in the 2006-2007 season:\\n        Udonis Haslem: 844 points\\n        Dwayne Wade: 1397 points\\n        James Posey: 550 points\\n        ...\\n        ', type='ToolCallSummaryMessage'), ToolCallRequestEvent(source='WebSearchAgent', models_usage=RequestUsage(prompt_tokens=433, completion_tokens=70), metadata={}, content=[FunctionCall(id='call_sJw3w0kWOkWZsWyk8D0VxrVV', arguments='{\"query\": \"Dwyane Wade total rebounds 2007-2008 season\"}', name='search_web_tool'), FunctionCall(id='call_x5XTJGvrTLUwomXGm6o77U0Y', arguments='{\"query\": \"Dwyane Wade total rebounds 2008-2009 season\"}', name='search_web_tool')], type='ToolCallRequestEvent'), ToolCallExecutionEvent(source='WebSearchAgent', models_usage=None, metadata={}, content=[FunctionExecutionResult(content='The number of total rebounds for Dwayne Wade in the Miami Heat season 2007-2008 is 214.', name='search_web_tool', call_id='call_sJw3w0kWOkWZsWyk8D0VxrVV', is_error=False), FunctionExecutionResult(content='The number of total rebounds for Dwayne Wade in the Miami Heat season 2008-2009 is 398.', name='search_web_tool', call_id='call_x5XTJGvrTLUwomXGm6o77U0Y', is_error=False)], type='ToolCallExecutionEvent'), ToolCallSummaryMessage(source='WebSearchAgent', models_usage=None, metadata={}, content='The number of total rebounds for Dwayne Wade in the Miami Heat season 2007-2008 is 214.\\nThe number of total rebounds for Dwayne Wade in the Miami Heat season 2008-2009 is 398.', type='ToolCallSummaryMessage'), ToolCallRequestEvent(source='DataAnalystAgent', models_usage=RequestUsage(prompt_tokens=459, completion_tokens=20), metadata={}, content=[FunctionCall(id='call_DHxYaZvAsM1ZpUxTnLiXJ18H', arguments='{\"start\":214,\"end\":398}', name='percentage_change_tool')], type='ToolCallRequestEvent'), ToolCallExecutionEvent(source='DataAnalystAgent', models_usage=None, metadata={}, content=[FunctionExecutionResult(content='85.98130841121495', name='percentage_change_tool', call_id='call_DHxYaZvAsM1ZpUxTnLiXJ18H', is_error=False)], type='ToolCallExecutionEvent'), ToolCallSummaryMessage(source='DataAnalystAgent', models_usage=None, metadata={}, content='85.98130841121495', type='ToolCallSummaryMessage'), TextMessage(source='DataAnalystAgent', models_usage=RequestUsage(prompt_tokens=500, completion_tokens=70), metadata={}, content='The Miami Heat player with the highest points in the 2006-2007 season was Dwayne Wade, with 1,397 points. The percentage change in his total rebounds between the 2007-2008 season (214 rebounds) and the 2008-2009 season (398 rebounds) was approximately 85.98%.', type='TextMessage'), TextMessage(source='PlanningAgent', models_usage=RequestUsage(prompt_tokens=564, completion_tokens=73), metadata={}, content=\"The top scorer for the Miami Heat in the 2006-2007 season was Dwayne Wade, with 1,397 points. There was an approximate 85.98% increase in Dwayne Wade's total rebounds between the 2007-2008 season (214 rebounds) and the 2008-2009 season (398 rebounds). TERMINATE\", type='TextMessage'), TextMessage(source='society_of_mind', models_usage=RequestUsage(prompt_tokens=539, completion_tokens=74), metadata={}, content='Dwayne Wade was the top scorer for the Miami Heat in the 2006-2007 season, with 1,397 points. His total rebounds increased from 214 in the 2007-2008 season to 398 in the 2008-2009 season, marking an approximate 85.98% increase in total rebounds between those two seasons.', type='TextMessage')], stop_reason=None)"
      ]
     },
     "execution_count": 12,
     "metadata": {},
     "output_type": "execute_result"
    }
   ],
   "source": [
    "from autogen_agentchat.ui import Console\n",
    "await Console(society_of_mind_agent.run_stream(task=task))"
   ]
  },
  {
   "cell_type": "code",
   "execution_count": 13,
   "metadata": {},
   "outputs": [
    {
     "ename": "RuntimeError",
     "evalue": "asyncio.run() cannot be called from a running event loop",
     "output_type": "error",
     "traceback": [
      "\u001b[31m---------------------------------------------------------------------------\u001b[39m",
      "\u001b[31mRuntimeError\u001b[39m                              Traceback (most recent call last)",
      "\u001b[36mCell\u001b[39m\u001b[36m \u001b[39m\u001b[32mIn[13]\u001b[39m\u001b[32m, line 32\u001b[39m\n\u001b[32m     28\u001b[39m     stream = team.run_stream(task=\u001b[33m\"\u001b[39m\u001b[33mWrite a short story with a surprising ending.\u001b[39m\u001b[33m\"\u001b[39m)\n\u001b[32m     29\u001b[39m     \u001b[38;5;28;01mawait\u001b[39;00m Console(stream)\n\u001b[32m---> \u001b[39m\u001b[32m32\u001b[39m \u001b[43masyncio\u001b[49m\u001b[43m.\u001b[49m\u001b[43mrun\u001b[49m\u001b[43m(\u001b[49m\u001b[43mmain\u001b[49m\u001b[43m(\u001b[49m\u001b[43m)\u001b[49m\u001b[43m)\u001b[49m\n",
      "\u001b[36mFile \u001b[39m\u001b[32m/opt/miniconda3/envs/langchain/lib/python3.12/asyncio/runners.py:191\u001b[39m, in \u001b[36mrun\u001b[39m\u001b[34m(main, debug, loop_factory)\u001b[39m\n\u001b[32m    161\u001b[39m \u001b[38;5;250m\u001b[39m\u001b[33;03m\"\"\"Execute the coroutine and return the result.\u001b[39;00m\n\u001b[32m    162\u001b[39m \n\u001b[32m    163\u001b[39m \u001b[33;03mThis function runs the passed coroutine, taking care of\u001b[39;00m\n\u001b[32m   (...)\u001b[39m\u001b[32m    187\u001b[39m \u001b[33;03m    asyncio.run(main())\u001b[39;00m\n\u001b[32m    188\u001b[39m \u001b[33;03m\"\"\"\u001b[39;00m\n\u001b[32m    189\u001b[39m \u001b[38;5;28;01mif\u001b[39;00m events._get_running_loop() \u001b[38;5;129;01mis\u001b[39;00m \u001b[38;5;129;01mnot\u001b[39;00m \u001b[38;5;28;01mNone\u001b[39;00m:\n\u001b[32m    190\u001b[39m     \u001b[38;5;66;03m# fail fast with short traceback\u001b[39;00m\n\u001b[32m--> \u001b[39m\u001b[32m191\u001b[39m     \u001b[38;5;28;01mraise\u001b[39;00m \u001b[38;5;167;01mRuntimeError\u001b[39;00m(\n\u001b[32m    192\u001b[39m         \u001b[33m\"\u001b[39m\u001b[33masyncio.run() cannot be called from a running event loop\u001b[39m\u001b[33m\"\u001b[39m)\n\u001b[32m    194\u001b[39m \u001b[38;5;28;01mwith\u001b[39;00m Runner(debug=debug, loop_factory=loop_factory) \u001b[38;5;28;01mas\u001b[39;00m runner:\n\u001b[32m    195\u001b[39m     \u001b[38;5;28;01mreturn\u001b[39;00m runner.run(main)\n",
      "\u001b[31mRuntimeError\u001b[39m: asyncio.run() cannot be called from a running event loop"
     ]
    }
   ],
   "source": [
    "import asyncio\n",
    "from autogen_agentchat.ui import Console\n",
    "from autogen_agentchat.agents import AssistantAgent, SocietyOfMindAgent\n",
    "from autogen_ext.models.openai import OpenAIChatCompletionClient\n",
    "from autogen_agentchat.teams import RoundRobinGroupChat\n",
    "from autogen_agentchat.conditions import TextMentionTermination\n",
    "\n",
    "\n",
    "async def main() -> None:\n",
    "    model_client = OpenAIChatCompletionClient(model=\"gpt-4o\")\n",
    "\n",
    "    agent1 = AssistantAgent(\"assistant1\", model_client=model_client, system_message=\"You are a writer, write well.\")\n",
    "    agent2 = AssistantAgent(\n",
    "        \"assistant2\",\n",
    "        model_client=model_client,\n",
    "        system_message=\"You are an editor, provide critical feedback. Respond with 'APPROVE' if the text addresses all feedbacks.\",\n",
    "    )\n",
    "    inner_termination = TextMentionTermination(\"APPROVE\")\n",
    "    inner_team = RoundRobinGroupChat([agent1, agent2], termination_condition=inner_termination)\n",
    "\n",
    "    society_of_mind_agent = SocietyOfMindAgent(\"society_of_mind\", team=inner_team, model_client=model_client)\n",
    "\n",
    "    agent3 = AssistantAgent(\n",
    "        \"assistant3\", model_client=model_client, system_message=\"Translate the text to Spanish.\"\n",
    "    )\n",
    "    team = RoundRobinGroupChat([society_of_mind_agent, agent3], max_turns=2)\n",
    "\n",
    "    stream = team.run_stream(task=\"Write a short story with a surprising ending.\")\n",
    "    await Console(stream)\n",
    "\n",
    "\n",
    "asyncio.run(main())\n"
   ]
  },
  {
   "cell_type": "code",
   "execution_count": null,
   "metadata": {},
   "outputs": [],
   "source": []
  }
 ],
 "metadata": {
  "kernelspec": {
   "display_name": "langchain",
   "language": "python",
   "name": "python3"
  },
  "language_info": {
   "codemirror_mode": {
    "name": "ipython",
    "version": 3
   },
   "file_extension": ".py",
   "mimetype": "text/x-python",
   "name": "python",
   "nbconvert_exporter": "python",
   "pygments_lexer": "ipython3",
   "version": "3.12.9"
  }
 },
 "nbformat": 4,
 "nbformat_minor": 2
}
