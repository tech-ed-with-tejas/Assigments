{
 "cells": [
  {
   "cell_type": "code",
   "execution_count": 1,
   "metadata": {},
   "outputs": [],
   "source": [
    "from utils.utils import Agent,convert_cost,add,multiply,calculate_total_cost,calculate_daily_budget\n",
    "from utils.CONSTANT import ITERNERY_GENERATION_TEMPLATE,REQUIREMENT_VALIDATOR,TRAVEL_AGENT_PROMPT,PLANNER_TEMPLATE\n",
    "from langchain_core.output_parsers import StrOutputParser,PydanticOutputParser\n",
    "from langchain.schema import HumanMessage, SystemMessage\n",
    "from utils.validators import AgentState,AgentRequirement\n",
    "from utils.weathapi import get_combined_weather_summary\n",
    "from utils.places_api import get_famous_places_nearby\n",
    "from utils.hotels import search_hotels"
   ]
  },
  {
   "cell_type": "code",
   "execution_count": 2,
   "metadata": {},
   "outputs": [],
   "source": [
    "tools=[multiply, add,search_hotels, calculate_total_cost, calculate_daily_budget,get_combined_weather_summary,get_famous_places_nearby,convert_cost]\n"
   ]
  },
  {
   "cell_type": "code",
   "execution_count": 3,
   "metadata": {},
   "outputs": [],
   "source": [
    "from dotenv import load_dotenv\n",
    "load_dotenv()\n",
    "import os\n",
    "\n",
    "os.environ['OPENAI_API_KEY']=os.getenv(\"OPENAI_API_KEY\")"
   ]
  },
  {
   "cell_type": "code",
   "execution_count": 4,
   "metadata": {},
   "outputs": [],
   "source": [
    "from langchain_openai import ChatOpenAI\n",
    "llm = ChatOpenAI(\n",
    "    model_name=\"gpt-4o\",\n",
    "    temperature=0\n",
    ")"
   ]
  },
  {
   "cell_type": "code",
   "execution_count": 5,
   "metadata": {},
   "outputs": [],
   "source": [
    "model = llm.bind_tools(tools)"
   ]
  },
  {
   "cell_type": "code",
   "execution_count": 6,
   "metadata": {},
   "outputs": [
    {
     "name": "stdout",
     "output_type": "stream",
     "text": [
      "[{'name': 'get_combined_weather_summary', 'args': {'start_date': '2023-06-20', 'end_date': '2023-06-30', 'location': 'London'}, 'id': 'call_mB6HQkh1WzqMGL0kb9V8VfNx', 'type': 'tool_call'}]\n"
     ]
    }
   ],
   "source": [
    "response =model.invoke(\"What is the weather from june 20 to june 30 in london\")\n",
    "print(response.tool_calls)\n"
   ]
  },
  {
   "cell_type": "code",
   "execution_count": 7,
   "metadata": {},
   "outputs": [
    {
     "data": {
      "text/plain": [
       "[{'name': 'get_combined_weather_summary',\n",
       "  'args': {'start_date': '2023-06-20',\n",
       "   'end_date': '2023-06-30',\n",
       "   'location': 'London'},\n",
       "  'id': 'call_mB6HQkh1WzqMGL0kb9V8VfNx',\n",
       "  'type': 'tool_call'}]"
      ]
     },
     "execution_count": 7,
     "metadata": {},
     "output_type": "execute_result"
    }
   ],
   "source": [
    "response.tool_calls"
   ]
  },
  {
   "cell_type": "code",
   "execution_count": 8,
   "metadata": {},
   "outputs": [
    {
     "data": {
      "text/plain": [
       "\"\\n\\nYou are an AI Travel Planner and Expense Manager. Your task is to assist users in planning trips to any city worldwide using reasoning and tools.\\n\\nYou follow the **ReAct pattern**:\\n1. Think about what the user needs.\\n2. Decide which tool to use and why.\\n3. Call the tool using the correct arguments.\\n4. Observe the result.\\n5. Repeat reasoning and tool usage as needed.\\n6. Finally, return a complete, friendly, and well-organized travel plan.\\n7. Try Use the provided tools before trying for generic web_search tool\\n\\nBe thoughtful and structured. Use tools only when required. Wait for tool results before deciding the next step.\\n\\nIf the user provides a destination and number of days, start by gathering key information like attractions, weather, and hotels. Calculate costs, convert currency, generate an itinerary, and end with a trip summary.\\nCorrectly calcuate the trip days and use it for Estimating the cost Always get current coversion rate of the currency  and covert appropriatly . check the local weather during the time.Add a plan to visit nearby attractions.\\nDo not make any assumption\\nYour final response must be complete and organized, using markdown formatting (headers, bullet points) for easy reading. You should never hallucinate data — always use tools to get real-time or accurate info.\\n\\nLet's get started.\\n\\n\\nUser message :\\n{user_input}\\n\\n\""
      ]
     },
     "execution_count": 8,
     "metadata": {},
     "output_type": "execute_result"
    }
   ],
   "source": [
    "PLANNER_TEMPLATE"
   ]
  },
  {
   "cell_type": "code",
   "execution_count": 9,
   "metadata": {},
   "outputs": [],
   "source": [
    "from langgraph.prebuilt import ToolNode\n",
    "from langgraph.checkpoint.memory import MemorySaver\n",
    "\n",
    "from langchain_core.messages import HumanMessage, SystemMessage\n",
    "from langgraph.graph import MessagesState,StateGraph, END, START\n",
    "from langgraph.prebuilt import tools_condition\n"
   ]
  },
  {
   "cell_type": "code",
   "execution_count": 10,
   "metadata": {},
   "outputs": [],
   "source": [
    "builder=StateGraph(MessagesState)\n",
    "memory=MemorySaver()\n"
   ]
  },
  {
   "cell_type": "code",
   "execution_count": 11,
   "metadata": {},
   "outputs": [],
   "source": [
    "def function_1(state:MessagesState):\n",
    "    \n",
    "    user_question= state[\"messages\"]\n",
    "    \n",
    "    input_question = [ITERNERY_GENERATION_TEMPLATE]+user_question\n",
    "    \n",
    "    response = model.invoke(input_question)\n",
    "    \n",
    "    return {\n",
    "        \"messages\":[response]\n",
    "    }"
   ]
  },
  {
   "cell_type": "code",
   "execution_count": 12,
   "metadata": {},
   "outputs": [
    {
     "data": {
      "image/png": "[encoded data removed]",
      "text/plain": [
       "<langgraph.graph.state.CompiledStateGraph object at 0x10c035520>"
      ]
     },
     "execution_count": 12,
     "metadata": {},
     "output_type": "execute_result"
    }
   ],
   "source": [
    "builder.add_node(\"llm_decision_step\",function_1)\n",
    "builder.add_node(\"tools\",ToolNode(tools))\n",
    "builder.add_edge(START,\"llm_decision_step\")\n",
    "builder.add_conditional_edges(\n",
    "    \"llm_decision_step\",\n",
    "    tools_condition,\n",
    ")\n",
    "builder.add_edge(\"tools\",\"llm_decision_step\")\n",
    "react_graph=builder.compile()\n",
    "react_graph"
   ]
  },
  {
   "cell_type": "code",
   "execution_count": 13,
   "metadata": {},
   "outputs": [],
   "source": [
    "user_input = \"\"\"I want to visit Milan, Italy from 2025-07-20 to 2025-07-31.\n",
    "                         - Esitmate the cost of the trip in INR as my transcation currency \n",
    "                         - select one hotel under euros 500 which near to the city center, \n",
    "                         - please select 5 different local dinining with price range.\n",
    "                         - I would like to visit 2-3 attractions per day during the stay\n",
    "                        \"\"\"\n",
    "message=[HumanMessage(content=user_input)]\n"
   ]
  },
  {
   "cell_type": "code",
   "execution_count": 14,
   "metadata": {},
   "outputs": [],
   "source": [
    "from langchain.globals import set_debug\n",
    "set_debug(False)\n"
   ]
  },
  {
   "cell_type": "code",
   "execution_count": 15,
   "metadata": {},
   "outputs": [
    {
     "name": "stdout",
     "output_type": "stream",
     "text": [
      "[\"You are a smart and proactive travel planning assistant with access to the following tools: \\n- multiply\\n- add\\n- search_hotels\\n- calculate_total_cost\\n- calculate_daily_budget\\n- get_combined_weather_summary\\n- get_famous_places_nearby\\n- convert_cost\\n\\nYour goal is to generate complete, personalized travel plans that are budget-conscious, weather-informed, and rich in sightseeing opportunities.\\n\\nWhen a user asks about travel, vacation planning, trip costs, places to visit, or itineraries:\\n\\n- Use **search_hotels** to find suitable accommodations based on the user's destination, dates, and budget.\\n- Use **calculate_total_cost** to estimate total hotel cost based on the number of nights and price per night.\\n- Use **convert_cost** to convert costs into the user's local or preferred currency (always check the current exchange rate).\\n- Use **calculate_daily_budget** to break down the trip cost per day, including accommodation, food, transport, and extras.\\n- Use **get_combined_weather_summary** to get a weather forecast for the travel dates and location.\\n- Use **get_famous_places_nearby** to suggest sightseeing options based on hotel location and expected weather.\\n- Use **add** and **multiply** as needed to combine and scale costs (e.g. add shopping budget, calculate for multiple travelers).\\n\\nFollow the **ReAct pattern**:\\n1. Think step-by-step about what information the user needs.\\n2. Decide which tool to call and why.\\n3. Call the tool with the appropriate arguments.\\n4. Observe the result and reflect.\\n5. Repeat with other tools as needed until the task is complete.\\n6. Provide a full, friendly, and accurate travel itinerary and cost summary.\\n7. Prefer domain-specific tools over generic fallback tools (like web_search), unless strictly necessary.\\n\\nInstructions:\\n- Always calculate the trip duration correctly from user input.\\n- Do **not** assume details. Ask clarifying questions if dates, number of travelers, or budgets are missing.\\n- Avoid hallucinating data. Use tools to retrieve real information.\\n- Present final results using clear, markdown-formatted sections (e.g., `## Itinerary`, `## Budget`, `## Weather`, etc.)\\n- Be concise but informative. Add value by summarizing recommendations and tips.\\n\\nYou should only finish your response once you have gathered all required information using the tools. Wait for tool results before proceeding to the next step.\\n\\nLet’s get started.\\n\\n\\n**USER TRIP REQUEST:**\\n{user_request_details}\", HumanMessage(content='I want to visit Milan, Italy from 2025-07-20 to 2025-07-31.\\n                         - Esitmate the cost of the trip in INR as my transcation currency \\n                         - select one hotel under euros 500 which near to the city center, \\n                         - please select 5 different local dinining with price range.\\n                         - I would like to visit 2-3 attractions per day during the stay\\n                        ', additional_kwargs={}, response_metadata={}, id='30012361-2340-4d72-90eb-d25e770fa393')]\n",
      "[] ['2025-07-20', '2025-07-21', '2025-07-22', '2025-07-23', '2025-07-24', '2025-07-25', '2025-07-26', '2025-07-27', '2025-07-28', '2025-07-29', '2025-07-30', '2025-07-31']\n",
      "[\"You are a smart and proactive travel planning assistant with access to the following tools: \\n- multiply\\n- add\\n- search_hotels\\n- calculate_total_cost\\n- calculate_daily_budget\\n- get_combined_weather_summary\\n- get_famous_places_nearby\\n- convert_cost\\n\\nYour goal is to generate complete, personalized travel plans that are budget-conscious, weather-informed, and rich in sightseeing opportunities.\\n\\nWhen a user asks about travel, vacation planning, trip costs, places to visit, or itineraries:\\n\\n- Use **search_hotels** to find suitable accommodations based on the user's destination, dates, and budget.\\n- Use **calculate_total_cost** to estimate total hotel cost based on the number of nights and price per night.\\n- Use **convert_cost** to convert costs into the user's local or preferred currency (always check the current exchange rate).\\n- Use **calculate_daily_budget** to break down the trip cost per day, including accommodation, food, transport, and extras.\\n- Use **get_combined_weather_summary** to get a weather forecast for the travel dates and location.\\n- Use **get_famous_places_nearby** to suggest sightseeing options based on hotel location and expected weather.\\n- Use **add** and **multiply** as needed to combine and scale costs (e.g. add shopping budget, calculate for multiple travelers).\\n\\nFollow the **ReAct pattern**:\\n1. Think step-by-step about what information the user needs.\\n2. Decide which tool to call and why.\\n3. Call the tool with the appropriate arguments.\\n4. Observe the result and reflect.\\n5. Repeat with other tools as needed until the task is complete.\\n6. Provide a full, friendly, and accurate travel itinerary and cost summary.\\n7. Prefer domain-specific tools over generic fallback tools (like web_search), unless strictly necessary.\\n\\nInstructions:\\n- Always calculate the trip duration correctly from user input.\\n- Do **not** assume details. Ask clarifying questions if dates, number of travelers, or budgets are missing.\\n- Avoid hallucinating data. Use tools to retrieve real information.\\n- Present final results using clear, markdown-formatted sections (e.g., `## Itinerary`, `## Budget`, `## Weather`, etc.)\\n- Be concise but informative. Add value by summarizing recommendations and tips.\\n\\nYou should only finish your response once you have gathered all required information using the tools. Wait for tool results before proceeding to the next step.\\n\\nLet’s get started.\\n\\n\\n**USER TRIP REQUEST:**\\n{user_request_details}\", HumanMessage(content='I want to visit Milan, Italy from 2025-07-20 to 2025-07-31.\\n                         - Esitmate the cost of the trip in INR as my transcation currency \\n                         - select one hotel under euros 500 which near to the city center, \\n                         - please select 5 different local dinining with price range.\\n                         - I would like to visit 2-3 attractions per day during the stay\\n                        ', additional_kwargs={}, response_metadata={}, id='30012361-2340-4d72-90eb-d25e770fa393'), AIMessage(content='', additional_kwargs={'tool_calls': [{'id': 'call_v130plyt5SjfED3EdVoQL157', 'function': {'arguments': '{\"location\": \"Milan, Italy\"}', 'name': 'search_hotels'}, 'type': 'function'}, {'id': 'call_jg3eEypNZrI8paNDC5zLUVar', 'function': {'arguments': '{\"start_date\": \"2025-07-20\", \"end_date\": \"2025-07-31\", \"location\": \"Milan, Italy\"}', 'name': 'get_combined_weather_summary'}, 'type': 'function'}], 'refusal': None}, response_metadata={'token_usage': {'completion_tokens': 74, 'prompt_tokens': 1235, 'total_tokens': 1309, 'completion_tokens_details': {'accepted_prediction_tokens': 0, 'audio_tokens': 0, 'reasoning_tokens': 0, 'rejected_prediction_tokens': 0}, 'prompt_tokens_details': {'audio_tokens': 0, 'cached_tokens': 0}}, 'model_name': 'gpt-4o-2024-08-06', 'system_fingerprint': 'fp_07871e2ad8', 'id': 'chatcmpl-Bkrhjx4tSmmvZ6aJ5jWSDb3U0hjCa', 'service_tier': 'default', 'finish_reason': 'tool_calls', 'logprobs': None}, id='run--535ca1d6-0128-429c-9c01-d2256c275a6a-0', tool_calls=[{'name': 'search_hotels', 'args': {'location': 'Milan, Italy'}, 'id': 'call_v130plyt5SjfED3EdVoQL157', 'type': 'tool_call'}, {'name': 'get_combined_weather_summary', 'args': {'start_date': '2025-07-20', 'end_date': '2025-07-31', 'location': 'Milan, Italy'}, 'id': 'call_jg3eEypNZrI8paNDC5zLUVar', 'type': 'tool_call'}], usage_metadata={'input_tokens': 1235, 'output_tokens': 74, 'total_tokens': 1309, 'input_token_details': {'audio': 0, 'cache_read': 0}, 'output_token_details': {'audio': 0, 'reasoning': 0}}), ToolMessage(content=\"Best Milan hotel for: an arty, rooted stay Brera—Milan's art district—is not shy of a big-name hotel opening. In February 2023—just in time for fashion week—Casa Baglioni officially opened ...\\n\\nThe hotel is just an 8-minute stroll from Piazza San Babila and the famous Via Montenapoleone, which is ideal if you want to hit the fashion district but still escape the buzz at night. There's a wine bar (yes, really), a dreamy full-service spa, and even vegan and vegetarian options at their restaurant, Ristorante Rubacuori.\\n\\nBest High-End Hotel In Milan: Bulgari Hotel Milano; Best Boutique Hotel In Milan: Casa Baglioni; Best Value Hotel In Milan: Vico Milano; Best Hotel For Couples In Milan: Château Monfort; Best ...\\n\\nThere's no shortage of glamorous hotels in Milan to act as a base in Italy's most fashionable city. By Kiki Deere. ... Rooms from around £899 per night. Hotel address: Corso Venezia, 11, 20121 Milano MI, Italy. ... Best Milan hotel for: a sleek boutique stay.\\n\\n\", name='search_hotels', id='9f790a32-5f40-4fd5-adef-fab62cf16d7f', tool_call_id='call_v130plyt5SjfED3EdVoQL157'), ToolMessage(content='Weather Within 14 Days:\\nNothing to calculate weather data for less than 14 days\\n\\nWeather Beyond 14 Days:\\nWeather Summary for 2025-07-20:\\nMax Temperature: 31.7°C (89.1°F)\\nMin Temperature: 19.9°C (67.8°F)\\nAverage Temperature: 25.6°C (78.1°F)\\nMax Wind: 9.4 kph (5.8 mph)\\nTotal Precipitation: 1.2 mm (0.05 in)\\nTotal Snow: None cm\\nAverage Visibility: 9.6 km (5.0 miles)\\nAverage Humidity: 64.0%\\nWill it Rain?: No\\nChance of Rain: None%\\nWill it Snow?: No\\nChance of Snow: None%\\n\\nWeather Summary for 2025-07-21:\\nMax Temperature: 30.2°C (86.4°F)\\nMin Temperature: 19.6°C (67.3°F)\\nAverage Temperature: 24.9°C (76.8°F)\\nMax Wind: 9.0 kph (5.6 mph)\\nTotal Precipitation: 8.0 mm (0.31 in)\\nTotal Snow: None cm\\nAverage Visibility: 9.4 km (5.0 miles)\\nAverage Humidity: 67.0%\\nWill it Rain?: No\\nChance of Rain: None%\\nWill it Snow?: No\\nChance of Snow: None%\\n\\nWeather Summary for 2025-07-22:\\nMax Temperature: 31.1°C (88.0°F)\\nMin Temperature: 19.7°C (67.5°F)\\nAverage Temperature: 25.4°C (77.7°F)\\nMax Wind: 9.4 kph (5.8 mph)\\nTotal Precipitation: 2.7 mm (0.11 in)\\nTotal Snow: None cm\\nAverage Visibility: 9.8 km (6.0 miles)\\nAverage Humidity: 66.0%\\nWill it Rain?: No\\nChance of Rain: None%\\nWill it Snow?: No\\nChance of Snow: None%\\n\\nWeather Summary for 2025-07-23:\\nMax Temperature: 31.1°C (88.0°F)\\nMin Temperature: 19.8°C (67.6°F)\\nAverage Temperature: 25.3°C (77.5°F)\\nMax Wind: 9.4 kph (5.8 mph)\\nTotal Precipitation: 3.0 mm (0.12 in)\\nTotal Snow: None cm\\nAverage Visibility: 9.5 km (5.0 miles)\\nAverage Humidity: 66.0%\\nWill it Rain?: No\\nChance of Rain: None%\\nWill it Snow?: No\\nChance of Snow: None%\\n\\nWeather Summary for 2025-07-24:\\nMax Temperature: 30.3°C (86.5°F)\\nMin Temperature: 20.1°C (68.2°F)\\nAverage Temperature: 25.0°C (77.0°F)\\nMax Wind: 10.8 kph (6.7 mph)\\nTotal Precipitation: 6.9 mm (0.27 in)\\nTotal Snow: None cm\\nAverage Visibility: 9.4 km (5.0 miles)\\nAverage Humidity: 65.0%\\nWill it Rain?: No\\nChance of Rain: None%\\nWill it Snow?: No\\nChance of Snow: None%\\n\\nWeather Summary for 2025-07-25:\\nMax Temperature: 30.9°C (87.6°F)\\nMin Temperature: 19.4°C (66.9°F)\\nAverage Temperature: 25.1°C (77.2°F)\\nMax Wind: 10.1 kph (6.3 mph)\\nTotal Precipitation: 2.5 mm (0.1 in)\\nTotal Snow: None cm\\nAverage Visibility: 9.6 km (5.0 miles)\\nAverage Humidity: 62.0%\\nWill it Rain?: No\\nChance of Rain: None%\\nWill it Snow?: No\\nChance of Snow: None%\\n\\nWeather Summary for 2025-07-26:\\nMax Temperature: 29.8°C (85.6°F)\\nMin Temperature: 19.3°C (66.7°F)\\nAverage Temperature: 24.3°C (75.7°F)\\nMax Wind: 10.8 kph (6.7 mph)\\nTotal Precipitation: 6.9 mm (0.27 in)\\nTotal Snow: None cm\\nAverage Visibility: 9.4 km (5.0 miles)\\nAverage Humidity: 66.0%\\nWill it Rain?: No\\nChance of Rain: None%\\nWill it Snow?: No\\nChance of Snow: None%\\n\\nWeather Summary for 2025-07-27:\\nMax Temperature: 29.7°C (85.5°F)\\nMin Temperature: 18.9°C (66.0°F)\\nAverage Temperature: 24.3°C (75.7°F)\\nMax Wind: 9.7 kph (6.0 mph)\\nTotal Precipitation: 3.9 mm (0.15 in)\\nTotal Snow: None cm\\nAverage Visibility: 9.5 km (5.0 miles)\\nAverage Humidity: 69.0%\\nWill it Rain?: No\\nChance of Rain: None%\\nWill it Snow?: No\\nChance of Snow: None%\\n\\nWeather Summary for 2025-07-28:\\nMax Temperature: 30.5°C (86.9°F)\\nMin Temperature: 19.5°C (67.1°F)\\nAverage Temperature: 24.9°C (76.8°F)\\nMax Wind: 9.7 kph (6.0 mph)\\nTotal Precipitation: 3.2 mm (0.13 in)\\nTotal Snow: None cm\\nAverage Visibility: 9.4 km (5.0 miles)\\nAverage Humidity: 68.0%\\nWill it Rain?: No\\nChance of Rain: None%\\nWill it Snow?: No\\nChance of Snow: None%\\n\\nWeather Summary for 2025-07-29:\\nMax Temperature: 29.2°C (84.6°F)\\nMin Temperature: 19.7°C (67.5°F)\\nAverage Temperature: 24.5°C (76.1°F)\\nMax Wind: 10.1 kph (6.3 mph)\\nTotal Precipitation: 10.2 mm (0.4 in)\\nTotal Snow: None cm\\nAverage Visibility: 8.7 km (5.0 miles)\\nAverage Humidity: 72.0%\\nWill it Rain?: No\\nChance of Rain: None%\\nWill it Snow?: No\\nChance of Snow: None%\\n\\nWeather Summary for 2025-07-30:\\nMax Temperature: 30.3°C (86.5°F)\\nMin Temperature: 19.2°C (66.6°F)\\nAverage Temperature: 24.6°C (76.3°F)\\nMax Wind: 9.4 kph (5.8 mph)\\nTotal Precipitation: 1.5 mm (0.06 in)\\nTotal Snow: None cm\\nAverage Visibility: 9.4 km (5.0 miles)\\nAverage Humidity: 72.0%\\nWill it Rain?: No\\nChance of Rain: None%\\nWill it Snow?: No\\nChance of Snow: None%\\n\\nWeather Summary for 2025-07-31:\\nMax Temperature: 31.0°C (87.8°F)\\nMin Temperature: 19.7°C (67.5°F)\\nAverage Temperature: 25.1°C (77.2°F)\\nMax Wind: 10.1 kph (6.3 mph)\\nTotal Precipitation: 2.4 mm (0.09 in)\\nTotal Snow: None cm\\nAverage Visibility: 9.6 km (5.0 miles)\\nAverage Humidity: 69.0%\\nWill it Rain?: No\\nChance of Rain: None%\\nWill it Snow?: No\\nChance of Snow: None%', name='get_combined_weather_summary', id='ca590410-184a-472f-ae4d-d7509abcc2c3', tool_call_id='call_jg3eEypNZrI8paNDC5zLUVar')]\n",
      "{'results': [{'address_components': [{'long_name': 'Milan', 'short_name': 'Milan', 'types': ['locality', 'political']}, {'long_name': 'Milan', 'short_name': 'Milan', 'types': ['administrative_area_level_3', 'political']}, {'long_name': 'Metropolitan City of Milan', 'short_name': 'MI', 'types': ['administrative_area_level_2', 'political']}, {'long_name': 'Lombardy', 'short_name': 'Lombardy', 'types': ['administrative_area_level_1', 'political']}, {'long_name': 'Italy', 'short_name': 'IT', 'types': ['country', 'political']}], 'formatted_address': 'Milan, Metropolitan City of Milan, Italy', 'geometry': {'bounds': {'northeast': {'lat': 45.535689, 'lng': 9.2903463}, 'southwest': {'lat': 45.3897787, 'lng': 9.065118199999999}}, 'location': {'lat': 45.468503, 'lng': 9.182402699999999}, 'location_type': 'APPROXIMATE', 'viewport': {'northeast': {'lat': 45.535689, 'lng': 9.2903463}, 'southwest': {'lat': 45.3897787, 'lng': 8.228119999999999}}}, 'place_id': 'ChIJ53USP0nBhkcRjQ50xhPN_zw', 'types': ['locality', 'political']}], 'status': 'OK'}\n",
      "{'includedTypes': ['restaurant', 'tourist_attraction', 'museum', 'park', 'zoo', 'art_gallery', 'amusement_park', 'aquarium', 'historical_landmark'], 'maxResultCount': 10, 'rankPreference': 'POPULARITY', 'locationRestriction': {'circle': {'center': {'latitude': 45.468503, 'longitude': 9.182402699999999}, 'radius': 5000}}}\n",
      "[\"You are a smart and proactive travel planning assistant with access to the following tools: \\n- multiply\\n- add\\n- search_hotels\\n- calculate_total_cost\\n- calculate_daily_budget\\n- get_combined_weather_summary\\n- get_famous_places_nearby\\n- convert_cost\\n\\nYour goal is to generate complete, personalized travel plans that are budget-conscious, weather-informed, and rich in sightseeing opportunities.\\n\\nWhen a user asks about travel, vacation planning, trip costs, places to visit, or itineraries:\\n\\n- Use **search_hotels** to find suitable accommodations based on the user's destination, dates, and budget.\\n- Use **calculate_total_cost** to estimate total hotel cost based on the number of nights and price per night.\\n- Use **convert_cost** to convert costs into the user's local or preferred currency (always check the current exchange rate).\\n- Use **calculate_daily_budget** to break down the trip cost per day, including accommodation, food, transport, and extras.\\n- Use **get_combined_weather_summary** to get a weather forecast for the travel dates and location.\\n- Use **get_famous_places_nearby** to suggest sightseeing options based on hotel location and expected weather.\\n- Use **add** and **multiply** as needed to combine and scale costs (e.g. add shopping budget, calculate for multiple travelers).\\n\\nFollow the **ReAct pattern**:\\n1. Think step-by-step about what information the user needs.\\n2. Decide which tool to call and why.\\n3. Call the tool with the appropriate arguments.\\n4. Observe the result and reflect.\\n5. Repeat with other tools as needed until the task is complete.\\n6. Provide a full, friendly, and accurate travel itinerary and cost summary.\\n7. Prefer domain-specific tools over generic fallback tools (like web_search), unless strictly necessary.\\n\\nInstructions:\\n- Always calculate the trip duration correctly from user input.\\n- Do **not** assume details. Ask clarifying questions if dates, number of travelers, or budgets are missing.\\n- Avoid hallucinating data. Use tools to retrieve real information.\\n- Present final results using clear, markdown-formatted sections (e.g., `## Itinerary`, `## Budget`, `## Weather`, etc.)\\n- Be concise but informative. Add value by summarizing recommendations and tips.\\n\\nYou should only finish your response once you have gathered all required information using the tools. Wait for tool results before proceeding to the next step.\\n\\nLet’s get started.\\n\\n\\n**USER TRIP REQUEST:**\\n{user_request_details}\", HumanMessage(content='I want to visit Milan, Italy from 2025-07-20 to 2025-07-31.\\n                         - Esitmate the cost of the trip in INR as my transcation currency \\n                         - select one hotel under euros 500 which near to the city center, \\n                         - please select 5 different local dinining with price range.\\n                         - I would like to visit 2-3 attractions per day during the stay\\n                        ', additional_kwargs={}, response_metadata={}, id='30012361-2340-4d72-90eb-d25e770fa393'), AIMessage(content='', additional_kwargs={'tool_calls': [{'id': 'call_v130plyt5SjfED3EdVoQL157', 'function': {'arguments': '{\"location\": \"Milan, Italy\"}', 'name': 'search_hotels'}, 'type': 'function'}, {'id': 'call_jg3eEypNZrI8paNDC5zLUVar', 'function': {'arguments': '{\"start_date\": \"2025-07-20\", \"end_date\": \"2025-07-31\", \"location\": \"Milan, Italy\"}', 'name': 'get_combined_weather_summary'}, 'type': 'function'}], 'refusal': None}, response_metadata={'token_usage': {'completion_tokens': 74, 'prompt_tokens': 1235, 'total_tokens': 1309, 'completion_tokens_details': {'accepted_prediction_tokens': 0, 'audio_tokens': 0, 'reasoning_tokens': 0, 'rejected_prediction_tokens': 0}, 'prompt_tokens_details': {'audio_tokens': 0, 'cached_tokens': 0}}, 'model_name': 'gpt-4o-2024-08-06', 'system_fingerprint': 'fp_07871e2ad8', 'id': 'chatcmpl-Bkrhjx4tSmmvZ6aJ5jWSDb3U0hjCa', 'service_tier': 'default', 'finish_reason': 'tool_calls', 'logprobs': None}, id='run--535ca1d6-0128-429c-9c01-d2256c275a6a-0', tool_calls=[{'name': 'search_hotels', 'args': {'location': 'Milan, Italy'}, 'id': 'call_v130plyt5SjfED3EdVoQL157', 'type': 'tool_call'}, {'name': 'get_combined_weather_summary', 'args': {'start_date': '2025-07-20', 'end_date': '2025-07-31', 'location': 'Milan, Italy'}, 'id': 'call_jg3eEypNZrI8paNDC5zLUVar', 'type': 'tool_call'}], usage_metadata={'input_tokens': 1235, 'output_tokens': 74, 'total_tokens': 1309, 'input_token_details': {'audio': 0, 'cache_read': 0}, 'output_token_details': {'audio': 0, 'reasoning': 0}}), ToolMessage(content=\"Best Milan hotel for: an arty, rooted stay Brera—Milan's art district—is not shy of a big-name hotel opening. In February 2023—just in time for fashion week—Casa Baglioni officially opened ...\\n\\nThe hotel is just an 8-minute stroll from Piazza San Babila and the famous Via Montenapoleone, which is ideal if you want to hit the fashion district but still escape the buzz at night. There's a wine bar (yes, really), a dreamy full-service spa, and even vegan and vegetarian options at their restaurant, Ristorante Rubacuori.\\n\\nBest High-End Hotel In Milan: Bulgari Hotel Milano; Best Boutique Hotel In Milan: Casa Baglioni; Best Value Hotel In Milan: Vico Milano; Best Hotel For Couples In Milan: Château Monfort; Best ...\\n\\nThere's no shortage of glamorous hotels in Milan to act as a base in Italy's most fashionable city. By Kiki Deere. ... Rooms from around £899 per night. Hotel address: Corso Venezia, 11, 20121 Milano MI, Italy. ... Best Milan hotel for: a sleek boutique stay.\\n\\n\", name='search_hotels', id='9f790a32-5f40-4fd5-adef-fab62cf16d7f', tool_call_id='call_v130plyt5SjfED3EdVoQL157'), ToolMessage(content='Weather Within 14 Days:\\nNothing to calculate weather data for less than 14 days\\n\\nWeather Beyond 14 Days:\\nWeather Summary for 2025-07-20:\\nMax Temperature: 31.7°C (89.1°F)\\nMin Temperature: 19.9°C (67.8°F)\\nAverage Temperature: 25.6°C (78.1°F)\\nMax Wind: 9.4 kph (5.8 mph)\\nTotal Precipitation: 1.2 mm (0.05 in)\\nTotal Snow: None cm\\nAverage Visibility: 9.6 km (5.0 miles)\\nAverage Humidity: 64.0%\\nWill it Rain?: No\\nChance of Rain: None%\\nWill it Snow?: No\\nChance of Snow: None%\\n\\nWeather Summary for 2025-07-21:\\nMax Temperature: 30.2°C (86.4°F)\\nMin Temperature: 19.6°C (67.3°F)\\nAverage Temperature: 24.9°C (76.8°F)\\nMax Wind: 9.0 kph (5.6 mph)\\nTotal Precipitation: 8.0 mm (0.31 in)\\nTotal Snow: None cm\\nAverage Visibility: 9.4 km (5.0 miles)\\nAverage Humidity: 67.0%\\nWill it Rain?: No\\nChance of Rain: None%\\nWill it Snow?: No\\nChance of Snow: None%\\n\\nWeather Summary for 2025-07-22:\\nMax Temperature: 31.1°C (88.0°F)\\nMin Temperature: 19.7°C (67.5°F)\\nAverage Temperature: 25.4°C (77.7°F)\\nMax Wind: 9.4 kph (5.8 mph)\\nTotal Precipitation: 2.7 mm (0.11 in)\\nTotal Snow: None cm\\nAverage Visibility: 9.8 km (6.0 miles)\\nAverage Humidity: 66.0%\\nWill it Rain?: No\\nChance of Rain: None%\\nWill it Snow?: No\\nChance of Snow: None%\\n\\nWeather Summary for 2025-07-23:\\nMax Temperature: 31.1°C (88.0°F)\\nMin Temperature: 19.8°C (67.6°F)\\nAverage Temperature: 25.3°C (77.5°F)\\nMax Wind: 9.4 kph (5.8 mph)\\nTotal Precipitation: 3.0 mm (0.12 in)\\nTotal Snow: None cm\\nAverage Visibility: 9.5 km (5.0 miles)\\nAverage Humidity: 66.0%\\nWill it Rain?: No\\nChance of Rain: None%\\nWill it Snow?: No\\nChance of Snow: None%\\n\\nWeather Summary for 2025-07-24:\\nMax Temperature: 30.3°C (86.5°F)\\nMin Temperature: 20.1°C (68.2°F)\\nAverage Temperature: 25.0°C (77.0°F)\\nMax Wind: 10.8 kph (6.7 mph)\\nTotal Precipitation: 6.9 mm (0.27 in)\\nTotal Snow: None cm\\nAverage Visibility: 9.4 km (5.0 miles)\\nAverage Humidity: 65.0%\\nWill it Rain?: No\\nChance of Rain: None%\\nWill it Snow?: No\\nChance of Snow: None%\\n\\nWeather Summary for 2025-07-25:\\nMax Temperature: 30.9°C (87.6°F)\\nMin Temperature: 19.4°C (66.9°F)\\nAverage Temperature: 25.1°C (77.2°F)\\nMax Wind: 10.1 kph (6.3 mph)\\nTotal Precipitation: 2.5 mm (0.1 in)\\nTotal Snow: None cm\\nAverage Visibility: 9.6 km (5.0 miles)\\nAverage Humidity: 62.0%\\nWill it Rain?: No\\nChance of Rain: None%\\nWill it Snow?: No\\nChance of Snow: None%\\n\\nWeather Summary for 2025-07-26:\\nMax Temperature: 29.8°C (85.6°F)\\nMin Temperature: 19.3°C (66.7°F)\\nAverage Temperature: 24.3°C (75.7°F)\\nMax Wind: 10.8 kph (6.7 mph)\\nTotal Precipitation: 6.9 mm (0.27 in)\\nTotal Snow: None cm\\nAverage Visibility: 9.4 km (5.0 miles)\\nAverage Humidity: 66.0%\\nWill it Rain?: No\\nChance of Rain: None%\\nWill it Snow?: No\\nChance of Snow: None%\\n\\nWeather Summary for 2025-07-27:\\nMax Temperature: 29.7°C (85.5°F)\\nMin Temperature: 18.9°C (66.0°F)\\nAverage Temperature: 24.3°C (75.7°F)\\nMax Wind: 9.7 kph (6.0 mph)\\nTotal Precipitation: 3.9 mm (0.15 in)\\nTotal Snow: None cm\\nAverage Visibility: 9.5 km (5.0 miles)\\nAverage Humidity: 69.0%\\nWill it Rain?: No\\nChance of Rain: None%\\nWill it Snow?: No\\nChance of Snow: None%\\n\\nWeather Summary for 2025-07-28:\\nMax Temperature: 30.5°C (86.9°F)\\nMin Temperature: 19.5°C (67.1°F)\\nAverage Temperature: 24.9°C (76.8°F)\\nMax Wind: 9.7 kph (6.0 mph)\\nTotal Precipitation: 3.2 mm (0.13 in)\\nTotal Snow: None cm\\nAverage Visibility: 9.4 km (5.0 miles)\\nAverage Humidity: 68.0%\\nWill it Rain?: No\\nChance of Rain: None%\\nWill it Snow?: No\\nChance of Snow: None%\\n\\nWeather Summary for 2025-07-29:\\nMax Temperature: 29.2°C (84.6°F)\\nMin Temperature: 19.7°C (67.5°F)\\nAverage Temperature: 24.5°C (76.1°F)\\nMax Wind: 10.1 kph (6.3 mph)\\nTotal Precipitation: 10.2 mm (0.4 in)\\nTotal Snow: None cm\\nAverage Visibility: 8.7 km (5.0 miles)\\nAverage Humidity: 72.0%\\nWill it Rain?: No\\nChance of Rain: None%\\nWill it Snow?: No\\nChance of Snow: None%\\n\\nWeather Summary for 2025-07-30:\\nMax Temperature: 30.3°C (86.5°F)\\nMin Temperature: 19.2°C (66.6°F)\\nAverage Temperature: 24.6°C (76.3°F)\\nMax Wind: 9.4 kph (5.8 mph)\\nTotal Precipitation: 1.5 mm (0.06 in)\\nTotal Snow: None cm\\nAverage Visibility: 9.4 km (5.0 miles)\\nAverage Humidity: 72.0%\\nWill it Rain?: No\\nChance of Rain: None%\\nWill it Snow?: No\\nChance of Snow: None%\\n\\nWeather Summary for 2025-07-31:\\nMax Temperature: 31.0°C (87.8°F)\\nMin Temperature: 19.7°C (67.5°F)\\nAverage Temperature: 25.1°C (77.2°F)\\nMax Wind: 10.1 kph (6.3 mph)\\nTotal Precipitation: 2.4 mm (0.09 in)\\nTotal Snow: None cm\\nAverage Visibility: 9.6 km (5.0 miles)\\nAverage Humidity: 69.0%\\nWill it Rain?: No\\nChance of Rain: None%\\nWill it Snow?: No\\nChance of Snow: None%', name='get_combined_weather_summary', id='ca590410-184a-472f-ae4d-d7509abcc2c3', tool_call_id='call_jg3eEypNZrI8paNDC5zLUVar'), AIMessage(content='', additional_kwargs={'tool_calls': [{'id': 'call_oMX8EJ7JP8CTz0MbPaasZ5BW', 'function': {'arguments': '{\"address\":\"Milan, Italy\",\"radius_km\":5}', 'name': 'get_famous_places_nearby'}, 'type': 'function'}], 'refusal': None}, response_metadata={'token_usage': {'completion_tokens': 28, 'prompt_tokens': 3672, 'total_tokens': 3700, 'completion_tokens_details': {'accepted_prediction_tokens': 0, 'audio_tokens': 0, 'reasoning_tokens': 0, 'rejected_prediction_tokens': 0}, 'prompt_tokens_details': {'audio_tokens': 0, 'cached_tokens': 1280}}, 'model_name': 'gpt-4o-2024-08-06', 'system_fingerprint': 'fp_07871e2ad8', 'id': 'chatcmpl-Bkrhps4bsLV8LBD6jTZqJVAxJvoJP', 'service_tier': 'default', 'finish_reason': 'tool_calls', 'logprobs': None}, id='run--098180d2-697a-44ed-9c5d-cdffe63e3f30-0', tool_calls=[{'name': 'get_famous_places_nearby', 'args': {'address': 'Milan, Italy', 'radius_km': 5}, 'id': 'call_oMX8EJ7JP8CTz0MbPaasZ5BW', 'type': 'tool_call'}], usage_metadata={'input_tokens': 3672, 'output_tokens': 28, 'total_tokens': 3700, 'input_token_details': {'audio': 0, 'cache_read': 1280}, 'output_token_details': {'audio': 0, 'reasoning': 0}}), ToolMessage(content='The famous places include: Duomo di Milano, San Siro Stadium, Sforzesco Castle, Galleria Vittorio Emanuele II, Basilica di Santa Maria delle Grazie, Arco della Pace, Pinacoteca di Brera, Teatro alla Scala, Piazza del Duomo, Leonardo da Vinci Museum of Science and Technology', name='get_famous_places_nearby', id='fa37673b-3acc-40a4-9a06-d52654f7e103', tool_call_id='call_oMX8EJ7JP8CTz0MbPaasZ5BW')]\n",
      "[\"You are a smart and proactive travel planning assistant with access to the following tools: \\n- multiply\\n- add\\n- search_hotels\\n- calculate_total_cost\\n- calculate_daily_budget\\n- get_combined_weather_summary\\n- get_famous_places_nearby\\n- convert_cost\\n\\nYour goal is to generate complete, personalized travel plans that are budget-conscious, weather-informed, and rich in sightseeing opportunities.\\n\\nWhen a user asks about travel, vacation planning, trip costs, places to visit, or itineraries:\\n\\n- Use **search_hotels** to find suitable accommodations based on the user's destination, dates, and budget.\\n- Use **calculate_total_cost** to estimate total hotel cost based on the number of nights and price per night.\\n- Use **convert_cost** to convert costs into the user's local or preferred currency (always check the current exchange rate).\\n- Use **calculate_daily_budget** to break down the trip cost per day, including accommodation, food, transport, and extras.\\n- Use **get_combined_weather_summary** to get a weather forecast for the travel dates and location.\\n- Use **get_famous_places_nearby** to suggest sightseeing options based on hotel location and expected weather.\\n- Use **add** and **multiply** as needed to combine and scale costs (e.g. add shopping budget, calculate for multiple travelers).\\n\\nFollow the **ReAct pattern**:\\n1. Think step-by-step about what information the user needs.\\n2. Decide which tool to call and why.\\n3. Call the tool with the appropriate arguments.\\n4. Observe the result and reflect.\\n5. Repeat with other tools as needed until the task is complete.\\n6. Provide a full, friendly, and accurate travel itinerary and cost summary.\\n7. Prefer domain-specific tools over generic fallback tools (like web_search), unless strictly necessary.\\n\\nInstructions:\\n- Always calculate the trip duration correctly from user input.\\n- Do **not** assume details. Ask clarifying questions if dates, number of travelers, or budgets are missing.\\n- Avoid hallucinating data. Use tools to retrieve real information.\\n- Present final results using clear, markdown-formatted sections (e.g., `## Itinerary`, `## Budget`, `## Weather`, etc.)\\n- Be concise but informative. Add value by summarizing recommendations and tips.\\n\\nYou should only finish your response once you have gathered all required information using the tools. Wait for tool results before proceeding to the next step.\\n\\nLet’s get started.\\n\\n\\n**USER TRIP REQUEST:**\\n{user_request_details}\", HumanMessage(content='I want to visit Milan, Italy from 2025-07-20 to 2025-07-31.\\n                         - Esitmate the cost of the trip in INR as my transcation currency \\n                         - select one hotel under euros 500 which near to the city center, \\n                         - please select 5 different local dinining with price range.\\n                         - I would like to visit 2-3 attractions per day during the stay\\n                        ', additional_kwargs={}, response_metadata={}, id='30012361-2340-4d72-90eb-d25e770fa393'), AIMessage(content='', additional_kwargs={'tool_calls': [{'id': 'call_v130plyt5SjfED3EdVoQL157', 'function': {'arguments': '{\"location\": \"Milan, Italy\"}', 'name': 'search_hotels'}, 'type': 'function'}, {'id': 'call_jg3eEypNZrI8paNDC5zLUVar', 'function': {'arguments': '{\"start_date\": \"2025-07-20\", \"end_date\": \"2025-07-31\", \"location\": \"Milan, Italy\"}', 'name': 'get_combined_weather_summary'}, 'type': 'function'}], 'refusal': None}, response_metadata={'token_usage': {'completion_tokens': 74, 'prompt_tokens': 1235, 'total_tokens': 1309, 'completion_tokens_details': {'accepted_prediction_tokens': 0, 'audio_tokens': 0, 'reasoning_tokens': 0, 'rejected_prediction_tokens': 0}, 'prompt_tokens_details': {'audio_tokens': 0, 'cached_tokens': 0}}, 'model_name': 'gpt-4o-2024-08-06', 'system_fingerprint': 'fp_07871e2ad8', 'id': 'chatcmpl-Bkrhjx4tSmmvZ6aJ5jWSDb3U0hjCa', 'service_tier': 'default', 'finish_reason': 'tool_calls', 'logprobs': None}, id='run--535ca1d6-0128-429c-9c01-d2256c275a6a-0', tool_calls=[{'name': 'search_hotels', 'args': {'location': 'Milan, Italy'}, 'id': 'call_v130plyt5SjfED3EdVoQL157', 'type': 'tool_call'}, {'name': 'get_combined_weather_summary', 'args': {'start_date': '2025-07-20', 'end_date': '2025-07-31', 'location': 'Milan, Italy'}, 'id': 'call_jg3eEypNZrI8paNDC5zLUVar', 'type': 'tool_call'}], usage_metadata={'input_tokens': 1235, 'output_tokens': 74, 'total_tokens': 1309, 'input_token_details': {'audio': 0, 'cache_read': 0}, 'output_token_details': {'audio': 0, 'reasoning': 0}}), ToolMessage(content=\"Best Milan hotel for: an arty, rooted stay Brera—Milan's art district—is not shy of a big-name hotel opening. In February 2023—just in time for fashion week—Casa Baglioni officially opened ...\\n\\nThe hotel is just an 8-minute stroll from Piazza San Babila and the famous Via Montenapoleone, which is ideal if you want to hit the fashion district but still escape the buzz at night. There's a wine bar (yes, really), a dreamy full-service spa, and even vegan and vegetarian options at their restaurant, Ristorante Rubacuori.\\n\\nBest High-End Hotel In Milan: Bulgari Hotel Milano; Best Boutique Hotel In Milan: Casa Baglioni; Best Value Hotel In Milan: Vico Milano; Best Hotel For Couples In Milan: Château Monfort; Best ...\\n\\nThere's no shortage of glamorous hotels in Milan to act as a base in Italy's most fashionable city. By Kiki Deere. ... Rooms from around £899 per night. Hotel address: Corso Venezia, 11, 20121 Milano MI, Italy. ... Best Milan hotel for: a sleek boutique stay.\\n\\n\", name='search_hotels', id='9f790a32-5f40-4fd5-adef-fab62cf16d7f', tool_call_id='call_v130plyt5SjfED3EdVoQL157'), ToolMessage(content='Weather Within 14 Days:\\nNothing to calculate weather data for less than 14 days\\n\\nWeather Beyond 14 Days:\\nWeather Summary for 2025-07-20:\\nMax Temperature: 31.7°C (89.1°F)\\nMin Temperature: 19.9°C (67.8°F)\\nAverage Temperature: 25.6°C (78.1°F)\\nMax Wind: 9.4 kph (5.8 mph)\\nTotal Precipitation: 1.2 mm (0.05 in)\\nTotal Snow: None cm\\nAverage Visibility: 9.6 km (5.0 miles)\\nAverage Humidity: 64.0%\\nWill it Rain?: No\\nChance of Rain: None%\\nWill it Snow?: No\\nChance of Snow: None%\\n\\nWeather Summary for 2025-07-21:\\nMax Temperature: 30.2°C (86.4°F)\\nMin Temperature: 19.6°C (67.3°F)\\nAverage Temperature: 24.9°C (76.8°F)\\nMax Wind: 9.0 kph (5.6 mph)\\nTotal Precipitation: 8.0 mm (0.31 in)\\nTotal Snow: None cm\\nAverage Visibility: 9.4 km (5.0 miles)\\nAverage Humidity: 67.0%\\nWill it Rain?: No\\nChance of Rain: None%\\nWill it Snow?: No\\nChance of Snow: None%\\n\\nWeather Summary for 2025-07-22:\\nMax Temperature: 31.1°C (88.0°F)\\nMin Temperature: 19.7°C (67.5°F)\\nAverage Temperature: 25.4°C (77.7°F)\\nMax Wind: 9.4 kph (5.8 mph)\\nTotal Precipitation: 2.7 mm (0.11 in)\\nTotal Snow: None cm\\nAverage Visibility: 9.8 km (6.0 miles)\\nAverage Humidity: 66.0%\\nWill it Rain?: No\\nChance of Rain: None%\\nWill it Snow?: No\\nChance of Snow: None%\\n\\nWeather Summary for 2025-07-23:\\nMax Temperature: 31.1°C (88.0°F)\\nMin Temperature: 19.8°C (67.6°F)\\nAverage Temperature: 25.3°C (77.5°F)\\nMax Wind: 9.4 kph (5.8 mph)\\nTotal Precipitation: 3.0 mm (0.12 in)\\nTotal Snow: None cm\\nAverage Visibility: 9.5 km (5.0 miles)\\nAverage Humidity: 66.0%\\nWill it Rain?: No\\nChance of Rain: None%\\nWill it Snow?: No\\nChance of Snow: None%\\n\\nWeather Summary for 2025-07-24:\\nMax Temperature: 30.3°C (86.5°F)\\nMin Temperature: 20.1°C (68.2°F)\\nAverage Temperature: 25.0°C (77.0°F)\\nMax Wind: 10.8 kph (6.7 mph)\\nTotal Precipitation: 6.9 mm (0.27 in)\\nTotal Snow: None cm\\nAverage Visibility: 9.4 km (5.0 miles)\\nAverage Humidity: 65.0%\\nWill it Rain?: No\\nChance of Rain: None%\\nWill it Snow?: No\\nChance of Snow: None%\\n\\nWeather Summary for 2025-07-25:\\nMax Temperature: 30.9°C (87.6°F)\\nMin Temperature: 19.4°C (66.9°F)\\nAverage Temperature: 25.1°C (77.2°F)\\nMax Wind: 10.1 kph (6.3 mph)\\nTotal Precipitation: 2.5 mm (0.1 in)\\nTotal Snow: None cm\\nAverage Visibility: 9.6 km (5.0 miles)\\nAverage Humidity: 62.0%\\nWill it Rain?: No\\nChance of Rain: None%\\nWill it Snow?: No\\nChance of Snow: None%\\n\\nWeather Summary for 2025-07-26:\\nMax Temperature: 29.8°C (85.6°F)\\nMin Temperature: 19.3°C (66.7°F)\\nAverage Temperature: 24.3°C (75.7°F)\\nMax Wind: 10.8 kph (6.7 mph)\\nTotal Precipitation: 6.9 mm (0.27 in)\\nTotal Snow: None cm\\nAverage Visibility: 9.4 km (5.0 miles)\\nAverage Humidity: 66.0%\\nWill it Rain?: No\\nChance of Rain: None%\\nWill it Snow?: No\\nChance of Snow: None%\\n\\nWeather Summary for 2025-07-27:\\nMax Temperature: 29.7°C (85.5°F)\\nMin Temperature: 18.9°C (66.0°F)\\nAverage Temperature: 24.3°C (75.7°F)\\nMax Wind: 9.7 kph (6.0 mph)\\nTotal Precipitation: 3.9 mm (0.15 in)\\nTotal Snow: None cm\\nAverage Visibility: 9.5 km (5.0 miles)\\nAverage Humidity: 69.0%\\nWill it Rain?: No\\nChance of Rain: None%\\nWill it Snow?: No\\nChance of Snow: None%\\n\\nWeather Summary for 2025-07-28:\\nMax Temperature: 30.5°C (86.9°F)\\nMin Temperature: 19.5°C (67.1°F)\\nAverage Temperature: 24.9°C (76.8°F)\\nMax Wind: 9.7 kph (6.0 mph)\\nTotal Precipitation: 3.2 mm (0.13 in)\\nTotal Snow: None cm\\nAverage Visibility: 9.4 km (5.0 miles)\\nAverage Humidity: 68.0%\\nWill it Rain?: No\\nChance of Rain: None%\\nWill it Snow?: No\\nChance of Snow: None%\\n\\nWeather Summary for 2025-07-29:\\nMax Temperature: 29.2°C (84.6°F)\\nMin Temperature: 19.7°C (67.5°F)\\nAverage Temperature: 24.5°C (76.1°F)\\nMax Wind: 10.1 kph (6.3 mph)\\nTotal Precipitation: 10.2 mm (0.4 in)\\nTotal Snow: None cm\\nAverage Visibility: 8.7 km (5.0 miles)\\nAverage Humidity: 72.0%\\nWill it Rain?: No\\nChance of Rain: None%\\nWill it Snow?: No\\nChance of Snow: None%\\n\\nWeather Summary for 2025-07-30:\\nMax Temperature: 30.3°C (86.5°F)\\nMin Temperature: 19.2°C (66.6°F)\\nAverage Temperature: 24.6°C (76.3°F)\\nMax Wind: 9.4 kph (5.8 mph)\\nTotal Precipitation: 1.5 mm (0.06 in)\\nTotal Snow: None cm\\nAverage Visibility: 9.4 km (5.0 miles)\\nAverage Humidity: 72.0%\\nWill it Rain?: No\\nChance of Rain: None%\\nWill it Snow?: No\\nChance of Snow: None%\\n\\nWeather Summary for 2025-07-31:\\nMax Temperature: 31.0°C (87.8°F)\\nMin Temperature: 19.7°C (67.5°F)\\nAverage Temperature: 25.1°C (77.2°F)\\nMax Wind: 10.1 kph (6.3 mph)\\nTotal Precipitation: 2.4 mm (0.09 in)\\nTotal Snow: None cm\\nAverage Visibility: 9.6 km (5.0 miles)\\nAverage Humidity: 69.0%\\nWill it Rain?: No\\nChance of Rain: None%\\nWill it Snow?: No\\nChance of Snow: None%', name='get_combined_weather_summary', id='ca590410-184a-472f-ae4d-d7509abcc2c3', tool_call_id='call_jg3eEypNZrI8paNDC5zLUVar'), AIMessage(content='', additional_kwargs={'tool_calls': [{'id': 'call_oMX8EJ7JP8CTz0MbPaasZ5BW', 'function': {'arguments': '{\"address\":\"Milan, Italy\",\"radius_km\":5}', 'name': 'get_famous_places_nearby'}, 'type': 'function'}], 'refusal': None}, response_metadata={'token_usage': {'completion_tokens': 28, 'prompt_tokens': 3672, 'total_tokens': 3700, 'completion_tokens_details': {'accepted_prediction_tokens': 0, 'audio_tokens': 0, 'reasoning_tokens': 0, 'rejected_prediction_tokens': 0}, 'prompt_tokens_details': {'audio_tokens': 0, 'cached_tokens': 1280}}, 'model_name': 'gpt-4o-2024-08-06', 'system_fingerprint': 'fp_07871e2ad8', 'id': 'chatcmpl-Bkrhps4bsLV8LBD6jTZqJVAxJvoJP', 'service_tier': 'default', 'finish_reason': 'tool_calls', 'logprobs': None}, id='run--098180d2-697a-44ed-9c5d-cdffe63e3f30-0', tool_calls=[{'name': 'get_famous_places_nearby', 'args': {'address': 'Milan, Italy', 'radius_km': 5}, 'id': 'call_oMX8EJ7JP8CTz0MbPaasZ5BW', 'type': 'tool_call'}], usage_metadata={'input_tokens': 3672, 'output_tokens': 28, 'total_tokens': 3700, 'input_token_details': {'audio': 0, 'cache_read': 1280}, 'output_token_details': {'audio': 0, 'reasoning': 0}}), ToolMessage(content='The famous places include: Duomo di Milano, San Siro Stadium, Sforzesco Castle, Galleria Vittorio Emanuele II, Basilica di Santa Maria delle Grazie, Arco della Pace, Pinacoteca di Brera, Teatro alla Scala, Piazza del Duomo, Leonardo da Vinci Museum of Science and Technology', name='get_famous_places_nearby', id='fa37673b-3acc-40a4-9a06-d52654f7e103', tool_call_id='call_oMX8EJ7JP8CTz0MbPaasZ5BW'), AIMessage(content='', additional_kwargs={'tool_calls': [{'id': 'call_QRnkA48OFdTzoza4RCEnFO6S', 'function': {'arguments': '{\"cost\":500,\"from_currency\":\"EUR\",\"to_currency\":\"INR\"}', 'name': 'convert_cost'}, 'type': 'function'}], 'refusal': None}, response_metadata={'token_usage': {'completion_tokens': 25, 'prompt_tokens': 3780, 'total_tokens': 3805, 'completion_tokens_details': {'accepted_prediction_tokens': 0, 'audio_tokens': 0, 'reasoning_tokens': 0, 'rejected_prediction_tokens': 0}, 'prompt_tokens_details': {'audio_tokens': 0, 'cached_tokens': 3584}}, 'model_name': 'gpt-4o-2024-08-06', 'system_fingerprint': 'fp_07871e2ad8', 'id': 'chatcmpl-BkrhsI2MPNG9UvcYGaTtxu41TVhJB', 'service_tier': 'default', 'finish_reason': 'tool_calls', 'logprobs': None}, id='run--dd3addbb-fa59-4a8a-81d1-8e069aeb4983-0', tool_calls=[{'name': 'convert_cost', 'args': {'cost': 500, 'from_currency': 'EUR', 'to_currency': 'INR'}, 'id': 'call_QRnkA48OFdTzoza4RCEnFO6S', 'type': 'tool_call'}], usage_metadata={'input_tokens': 3780, 'output_tokens': 25, 'total_tokens': 3805, 'input_token_details': {'audio': 0, 'cache_read': 3584}, 'output_token_details': {'audio': 0, 'reasoning': 0}}), ToolMessage(content='49896.35', name='convert_cost', id='035105bf-c6e3-4d95-89b0-4fee199f154a', tool_call_id='call_QRnkA48OFdTzoza4RCEnFO6S')]\n"
     ]
    }
   ],
   "source": [
    "resp=react_graph.invoke({'messages': user_input})\n"
   ]
  },
  {
   "cell_type": "code",
   "execution_count": 16,
   "metadata": {},
   "outputs": [
    {
     "name": "stdout",
     "output_type": "stream",
     "text": [
      "================================\u001b[1m Human Message \u001b[0m=================================\n",
      "\n",
      "I want to visit Milan, Italy from 2025-07-20 to 2025-07-31.\n",
      "                         - Esitmate the cost of the trip in INR as my transcation currency \n",
      "                         - select one hotel under euros 500 which near to the city center, \n",
      "                         - please select 5 different local dinining with price range.\n",
      "                         - I would like to visit 2-3 attractions per day during the stay\n",
      "                        \n",
      "==================================\u001b[1m Ai Message \u001b[0m==================================\n",
      "Tool Calls:\n",
      "  search_hotels (call_v130plyt5SjfED3EdVoQL157)\n",
      " Call ID: call_v130plyt5SjfED3EdVoQL157\n",
      "  Args:\n",
      "    location: Milan, Italy\n",
      "  get_combined_weather_summary (call_jg3eEypNZrI8paNDC5zLUVar)\n",
      " Call ID: call_jg3eEypNZrI8paNDC5zLUVar\n",
      "  Args:\n",
      "    start_date: 2025-07-20\n",
      "    end_date: 2025-07-31\n",
      "    location: Milan, Italy\n",
      "=================================\u001b[1m Tool Message \u001b[0m=================================\n",
      "Name: search_hotels\n",
      "\n",
      "Best Milan hotel for: an arty, rooted stay Brera—Milan's art district—is not shy of a big-name hotel opening. In February 2023—just in time for fashion week—Casa Baglioni officially opened ...\n",
      "\n",
      "The hotel is just an 8-minute stroll from Piazza San Babila and the famous Via Montenapoleone, which is ideal if you want to hit the fashion district but still escape the buzz at night. There's a wine bar (yes, really), a dreamy full-service spa, and even vegan and vegetarian options at their restaurant, Ristorante Rubacuori.\n",
      "\n",
      "Best High-End Hotel In Milan: Bulgari Hotel Milano; Best Boutique Hotel In Milan: Casa Baglioni; Best Value Hotel In Milan: Vico Milano; Best Hotel For Couples In Milan: Château Monfort; Best ...\n",
      "\n",
      "There's no shortage of glamorous hotels in Milan to act as a base in Italy's most fashionable city. By Kiki Deere. ... Rooms from around £899 per night. Hotel address: Corso Venezia, 11, 20121 Milano MI, Italy. ... Best Milan hotel for: a sleek boutique stay.\n",
      "\n",
      "\n",
      "=================================\u001b[1m Tool Message \u001b[0m=================================\n",
      "Name: get_combined_weather_summary\n",
      "\n",
      "Weather Within 14 Days:\n",
      "Nothing to calculate weather data for less than 14 days\n",
      "\n",
      "Weather Beyond 14 Days:\n",
      "Weather Summary for 2025-07-20:\n",
      "Max Temperature: 31.7°C (89.1°F)\n",
      "Min Temperature: 19.9°C (67.8°F)\n",
      "Average Temperature: 25.6°C (78.1°F)\n",
      "Max Wind: 9.4 kph (5.8 mph)\n",
      "Total Precipitation: 1.2 mm (0.05 in)\n",
      "Total Snow: None cm\n",
      "Average Visibility: 9.6 km (5.0 miles)\n",
      "Average Humidity: 64.0%\n",
      "Will it Rain?: No\n",
      "Chance of Rain: None%\n",
      "Will it Snow?: No\n",
      "Chance of Snow: None%\n",
      "\n",
      "Weather Summary for 2025-07-21:\n",
      "Max Temperature: 30.2°C (86.4°F)\n",
      "Min Temperature: 19.6°C (67.3°F)\n",
      "Average Temperature: 24.9°C (76.8°F)\n",
      "Max Wind: 9.0 kph (5.6 mph)\n",
      "Total Precipitation: 8.0 mm (0.31 in)\n",
      "Total Snow: None cm\n",
      "Average Visibility: 9.4 km (5.0 miles)\n",
      "Average Humidity: 67.0%\n",
      "Will it Rain?: No\n",
      "Chance of Rain: None%\n",
      "Will it Snow?: No\n",
      "Chance of Snow: None%\n",
      "\n",
      "Weather Summary for 2025-07-22:\n",
      "Max Temperature: 31.1°C (88.0°F)\n",
      "Min Temperature: 19.7°C (67.5°F)\n",
      "Average Temperature: 25.4°C (77.7°F)\n",
      "Max Wind: 9.4 kph (5.8 mph)\n",
      "Total Precipitation: 2.7 mm (0.11 in)\n",
      "Total Snow: None cm\n",
      "Average Visibility: 9.8 km (6.0 miles)\n",
      "Average Humidity: 66.0%\n",
      "Will it Rain?: No\n",
      "Chance of Rain: None%\n",
      "Will it Snow?: No\n",
      "Chance of Snow: None%\n",
      "\n",
      "Weather Summary for 2025-07-23:\n",
      "Max Temperature: 31.1°C (88.0°F)\n",
      "Min Temperature: 19.8°C (67.6°F)\n",
      "Average Temperature: 25.3°C (77.5°F)\n",
      "Max Wind: 9.4 kph (5.8 mph)\n",
      "Total Precipitation: 3.0 mm (0.12 in)\n",
      "Total Snow: None cm\n",
      "Average Visibility: 9.5 km (5.0 miles)\n",
      "Average Humidity: 66.0%\n",
      "Will it Rain?: No\n",
      "Chance of Rain: None%\n",
      "Will it Snow?: No\n",
      "Chance of Snow: None%\n",
      "\n",
      "Weather Summary for 2025-07-24:\n",
      "Max Temperature: 30.3°C (86.5°F)\n",
      "Min Temperature: 20.1°C (68.2°F)\n",
      "Average Temperature: 25.0°C (77.0°F)\n",
      "Max Wind: 10.8 kph (6.7 mph)\n",
      "Total Precipitation: 6.9 mm (0.27 in)\n",
      "Total Snow: None cm\n",
      "Average Visibility: 9.4 km (5.0 miles)\n",
      "Average Humidity: 65.0%\n",
      "Will it Rain?: No\n",
      "Chance of Rain: None%\n",
      "Will it Snow?: No\n",
      "Chance of Snow: None%\n",
      "\n",
      "Weather Summary for 2025-07-25:\n",
      "Max Temperature: 30.9°C (87.6°F)\n",
      "Min Temperature: 19.4°C (66.9°F)\n",
      "Average Temperature: 25.1°C (77.2°F)\n",
      "Max Wind: 10.1 kph (6.3 mph)\n",
      "Total Precipitation: 2.5 mm (0.1 in)\n",
      "Total Snow: None cm\n",
      "Average Visibility: 9.6 km (5.0 miles)\n",
      "Average Humidity: 62.0%\n",
      "Will it Rain?: No\n",
      "Chance of Rain: None%\n",
      "Will it Snow?: No\n",
      "Chance of Snow: None%\n",
      "\n",
      "Weather Summary for 2025-07-26:\n",
      "Max Temperature: 29.8°C (85.6°F)\n",
      "Min Temperature: 19.3°C (66.7°F)\n",
      "Average Temperature: 24.3°C (75.7°F)\n",
      "Max Wind: 10.8 kph (6.7 mph)\n",
      "Total Precipitation: 6.9 mm (0.27 in)\n",
      "Total Snow: None cm\n",
      "Average Visibility: 9.4 km (5.0 miles)\n",
      "Average Humidity: 66.0%\n",
      "Will it Rain?: No\n",
      "Chance of Rain: None%\n",
      "Will it Snow?: No\n",
      "Chance of Snow: None%\n",
      "\n",
      "Weather Summary for 2025-07-27:\n",
      "Max Temperature: 29.7°C (85.5°F)\n",
      "Min Temperature: 18.9°C (66.0°F)\n",
      "Average Temperature: 24.3°C (75.7°F)\n",
      "Max Wind: 9.7 kph (6.0 mph)\n",
      "Total Precipitation: 3.9 mm (0.15 in)\n",
      "Total Snow: None cm\n",
      "Average Visibility: 9.5 km (5.0 miles)\n",
      "Average Humidity: 69.0%\n",
      "Will it Rain?: No\n",
      "Chance of Rain: None%\n",
      "Will it Snow?: No\n",
      "Chance of Snow: None%\n",
      "\n",
      "Weather Summary for 2025-07-28:\n",
      "Max Temperature: 30.5°C (86.9°F)\n",
      "Min Temperature: 19.5°C (67.1°F)\n",
      "Average Temperature: 24.9°C (76.8°F)\n",
      "Max Wind: 9.7 kph (6.0 mph)\n",
      "Total Precipitation: 3.2 mm (0.13 in)\n",
      "Total Snow: None cm\n",
      "Average Visibility: 9.4 km (5.0 miles)\n",
      "Average Humidity: 68.0%\n",
      "Will it Rain?: No\n",
      "Chance of Rain: None%\n",
      "Will it Snow?: No\n",
      "Chance of Snow: None%\n",
      "\n",
      "Weather Summary for 2025-07-29:\n",
      "Max Temperature: 29.2°C (84.6°F)\n",
      "Min Temperature: 19.7°C (67.5°F)\n",
      "Average Temperature: 24.5°C (76.1°F)\n",
      "Max Wind: 10.1 kph (6.3 mph)\n",
      "Total Precipitation: 10.2 mm (0.4 in)\n",
      "Total Snow: None cm\n",
      "Average Visibility: 8.7 km (5.0 miles)\n",
      "Average Humidity: 72.0%\n",
      "Will it Rain?: No\n",
      "Chance of Rain: None%\n",
      "Will it Snow?: No\n",
      "Chance of Snow: None%\n",
      "\n",
      "Weather Summary for 2025-07-30:\n",
      "Max Temperature: 30.3°C (86.5°F)\n",
      "Min Temperature: 19.2°C (66.6°F)\n",
      "Average Temperature: 24.6°C (76.3°F)\n",
      "Max Wind: 9.4 kph (5.8 mph)\n",
      "Total Precipitation: 1.5 mm (0.06 in)\n",
      "Total Snow: None cm\n",
      "Average Visibility: 9.4 km (5.0 miles)\n",
      "Average Humidity: 72.0%\n",
      "Will it Rain?: No\n",
      "Chance of Rain: None%\n",
      "Will it Snow?: No\n",
      "Chance of Snow: None%\n",
      "\n",
      "Weather Summary for 2025-07-31:\n",
      "Max Temperature: 31.0°C (87.8°F)\n",
      "Min Temperature: 19.7°C (67.5°F)\n",
      "Average Temperature: 25.1°C (77.2°F)\n",
      "Max Wind: 10.1 kph (6.3 mph)\n",
      "Total Precipitation: 2.4 mm (0.09 in)\n",
      "Total Snow: None cm\n",
      "Average Visibility: 9.6 km (5.0 miles)\n",
      "Average Humidity: 69.0%\n",
      "Will it Rain?: No\n",
      "Chance of Rain: None%\n",
      "Will it Snow?: No\n",
      "Chance of Snow: None%\n",
      "==================================\u001b[1m Ai Message \u001b[0m==================================\n",
      "Tool Calls:\n",
      "  get_famous_places_nearby (call_oMX8EJ7JP8CTz0MbPaasZ5BW)\n",
      " Call ID: call_oMX8EJ7JP8CTz0MbPaasZ5BW\n",
      "  Args:\n",
      "    address: Milan, Italy\n",
      "    radius_km: 5\n",
      "=================================\u001b[1m Tool Message \u001b[0m=================================\n",
      "Name: get_famous_places_nearby\n",
      "\n",
      "The famous places include: Duomo di Milano, San Siro Stadium, Sforzesco Castle, Galleria Vittorio Emanuele II, Basilica di Santa Maria delle Grazie, Arco della Pace, Pinacoteca di Brera, Teatro alla Scala, Piazza del Duomo, Leonardo da Vinci Museum of Science and Technology\n",
      "==================================\u001b[1m Ai Message \u001b[0m==================================\n",
      "Tool Calls:\n",
      "  convert_cost (call_QRnkA48OFdTzoza4RCEnFO6S)\n",
      " Call ID: call_QRnkA48OFdTzoza4RCEnFO6S\n",
      "  Args:\n",
      "    cost: 500\n",
      "    from_currency: EUR\n",
      "    to_currency: INR\n",
      "=================================\u001b[1m Tool Message \u001b[0m=================================\n",
      "Name: convert_cost\n",
      "\n",
      "49896.35\n",
      "==================================\u001b[1m Ai Message \u001b[0m==================================\n",
      "\n",
      "## Itinerary for Milan, Italy (July 20 - July 31, 2025)\n",
      "\n",
      "### Accommodation\n",
      "- **Hotel Recommendation**: Casa Baglioni\n",
      "  - **Location**: Brera, Milan's art district, close to Piazza San Babila and Via Montenapoleone.\n",
      "  - **Features**: Wine bar, full-service spa, vegan and vegetarian options at the restaurant.\n",
      "  - **Cost**: Under €500 per night (approx. ₹49,896.35 INR).\n",
      "\n",
      "### Weather Forecast\n",
      "- **General Overview**: Expect warm temperatures ranging from 29°C to 31°C (84°F to 88°F) with minimal chances of rain. Ideal for sightseeing and outdoor activities.\n",
      "\n",
      "### Sightseeing\n",
      "- **Nearby Attractions**:\n",
      "  - Duomo di Milano\n",
      "  - San Siro Stadium\n",
      "  - Sforzesco Castle\n",
      "  - Galleria Vittorio Emanuele II\n",
      "  - Basilica di Santa Maria delle Grazie\n",
      "  - Arco della Pace\n",
      "  - Pinacoteca di Brera\n",
      "  - Teatro alla Scala\n",
      "  - Piazza del Duomo\n",
      "  - Leonardo da Vinci Museum of Science and Technology\n",
      "\n",
      "- **Daily Plan**: Visit 2-3 attractions per day. Consider starting with the Duomo di Milano and Galleria Vittorio Emanuele II for a mix of history and shopping.\n",
      "\n",
      "### Dining Options\n",
      "- **Local Dining Recommendations**:\n",
      "  - **Trattoria Milanese**: Traditional Milanese cuisine.\n",
      "  - **Pizzeria Spontini**: Famous for its thick, cheesy pizzas.\n",
      "  - **Osteria Conchetta**: Known for its risotto and pasta dishes.\n",
      "  - **Ristorante Cracco**: Offers a modern twist on Italian classics.\n",
      "  - **Panzerotti Luini**: Perfect for a quick, delicious snack.\n",
      "\n",
      "### Budget Overview\n",
      "- **Accommodation**: Approx. ₹49,896.35 INR per night.\n",
      "- **Dining**: Varies based on choice, but expect to spend around €20-€50 per meal.\n",
      "- **Sightseeing**: Many attractions have entry fees, so budget accordingly.\n",
      "\n",
      "This itinerary provides a balanced mix of culture, relaxation, and culinary experiences, ensuring a memorable trip to Milan. Enjoy your stay!\n"
     ]
    }
   ],
   "source": [
    "for m in resp['messages']:\n",
    "     m.pretty_print()"
   ]
  },
  {
   "cell_type": "code",
   "execution_count": 19,
   "metadata": {},
   "outputs": [
    {
     "name": "stdout",
     "output_type": "stream",
     "text": [
      "==================================\u001b[1m Ai Message \u001b[0m==================================\n",
      "\n",
      "## Itinerary for Milan, Italy (July 20 - July 31, 2025)\n",
      "\n",
      "### Accommodation\n",
      "- **Hotel Recommendation**: Casa Baglioni\n",
      "  - **Location**: Brera, Milan's art district, close to Piazza San Babila and Via Montenapoleone.\n",
      "  - **Features**: Wine bar, full-service spa, vegan and vegetarian options at the restaurant.\n",
      "  - **Cost**: Under €500 per night (approx. ₹49,896.35 INR).\n",
      "\n",
      "### Weather Forecast\n",
      "- **General Overview**: Expect warm temperatures ranging from 29°C to 31°C (84°F to 88°F) with minimal chances of rain. Ideal for sightseeing and outdoor activities.\n",
      "\n",
      "### Sightseeing\n",
      "- **Nearby Attractions**:\n",
      "  - Duomo di Milano\n",
      "  - San Siro Stadium\n",
      "  - Sforzesco Castle\n",
      "  - Galleria Vittorio Emanuele II\n",
      "  - Basilica di Santa Maria delle Grazie\n",
      "  - Arco della Pace\n",
      "  - Pinacoteca di Brera\n",
      "  - Teatro alla Scala\n",
      "  - Piazza del Duomo\n",
      "  - Leonardo da Vinci Museum of Science and Technology\n",
      "\n",
      "- **Daily Plan**: Visit 2-3 attractions per day. Consider starting with the Duomo di Milano and Galleria Vittorio Emanuele II for a mix of history and shopping.\n",
      "\n",
      "### Dining Options\n",
      "- **Local Dining Recommendations**:\n",
      "  - **Trattoria Milanese**: Traditional Milanese cuisine.\n",
      "  - **Pizzeria Spontini**: Famous for its thick, cheesy pizzas.\n",
      "  - **Osteria Conchetta**: Known for its risotto and pasta dishes.\n",
      "  - **Ristorante Cracco**: Offers a modern twist on Italian classics.\n",
      "  - **Panzerotti Luini**: Perfect for a quick, delicious snack.\n",
      "\n",
      "### Budget Overview\n",
      "- **Accommodation**: Approx. ₹49,896.35 INR per night.\n",
      "- **Dining**: Varies based on choice, but expect to spend around €20-€50 per meal.\n",
      "- **Sightseeing**: Many attractions have entry fees, so budget accordingly.\n",
      "\n",
      "This itinerary provides a balanced mix of culture, relaxation, and culinary experiences, ensuring a memorable trip to Milan. Enjoy your stay!\n"
     ]
    }
   ],
   "source": [
    "\n",
    "resp[\"messages\"][-1].pretty_print()"
   ]
  },
  {
   "cell_type": "code",
   "execution_count": null,
   "metadata": {},
   "outputs": [],
   "source": []
  }
 ],
 "metadata": {
  "kernelspec": {
   "display_name": "langchain",
   "language": "python",
   "name": "python3"
  },
  "language_info": {
   "codemirror_mode": {
    "name": "ipython",
    "version": 3
   },
   "file_extension": ".py",
   "mimetype": "text/x-python",
   "name": "python",
   "nbconvert_exporter": "python",
   "pygments_lexer": "ipython3",
   "version": "3.12.9"
  }
 },
 "nbformat": 4,
 "nbformat_minor": 2
}
