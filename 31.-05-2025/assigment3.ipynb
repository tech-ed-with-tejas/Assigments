{
 "cells": [
  {
   "cell_type": "markdown",
   "metadata": {},
   "source": [
    "## exploring types of data base and  search types "
   ]
  },
  {
   "cell_type": "markdown",
   "metadata": {},
   "source": [
    "##### lets load a sample ppf to load the data from the pdf"
   ]
  },
  {
   "cell_type": "code",
   "execution_count": 14,
   "metadata": {},
   "outputs": [
    {
     "data": {
      "text/plain": [
       "True"
      ]
     },
     "execution_count": 14,
     "metadata": {},
     "output_type": "execute_result"
    }
   ],
   "source": [
    "import os \n",
    "from pathlib import Path \n",
    "from dotenv import load_dotenv\n",
    "current_script_dir = Path().parent\n",
    "dotenv_file_path = Path.cwd().parent  / '.env'\n",
    "dotenv_file_path = dotenv_file_path.resolve()\n",
    "load_dotenv(dotenv_path=dotenv_file_path)"
   ]
  },
  {
   "cell_type": "code",
   "execution_count": 18,
   "metadata": {},
   "outputs": [
    {
     "name": "stderr",
     "output_type": "stream",
     "text": [
      "/opt/miniconda3/envs/langchain/lib/python3.12/site-packages/tqdm/auto.py:21: TqdmWarning: IProgress not found. Please update jupyter and ipywidgets. See https://ipywidgets.readthedocs.io/en/stable/user_install.html\n",
      "  from .autonotebook import tqdm as notebook_tqdm\n"
     ]
    }
   ],
   "source": [
    "from langchain_community.document_loaders.pdf import PyPDFLoader\n",
    "from langchain_huggingface import HuggingFaceEmbeddings\n",
    "embeddings=HuggingFaceEmbeddings(model_name=\"all-MiniLM-L6-v2\")\n"
   ]
  },
  {
   "cell_type": "code",
   "execution_count": 16,
   "metadata": {},
   "outputs": [],
   "source": [
    "os.environ['HF_TOKEN']=os.getenv(\"HF_TOKEN\")"
   ]
  },
  {
   "cell_type": "code",
   "execution_count": 17,
   "metadata": {},
   "outputs": [],
   "source": [
    "loader = PyPDFLoader(file_path=\"testpdf.pdf\")\n",
    "pdf = loader.load()\n"
   ]
  },
  {
   "cell_type": "code",
   "execution_count": 10,
   "metadata": {},
   "outputs": [
    {
     "data": {
      "text/plain": [
       "1465"
      ]
     },
     "execution_count": 10,
     "metadata": {},
     "output_type": "execute_result"
    }
   ],
   "source": [
    "len(pdf[10].page_content)"
   ]
  },
  {
   "cell_type": "code",
   "execution_count": 23,
   "metadata": {},
   "outputs": [
    {
     "data": {
      "text/plain": [
       "Document(metadata={'producer': 'Microsoft® Word 2016', 'creator': 'Microsoft® Word 2016', 'creationdate': '2020-03-31T20:48:03+05:30', 'author': 'asd', 'moddate': '2020-03-31T20:48:03+05:30', 'source': 'testpdf.pdf', 'total_pages': 20, 'page': 0, 'page_label': '1'}, page_content='Government of India \\nMinistry of Health & Family Welfare \\nDirectorate General of Health Services \\n(EMR Division) \\n \\n \\n \\n \\nRevised Guidelines on Clinical \\nManagement of COVID – 19 \\n \\n \\n \\n \\n \\nThis document is intended for clinicians taking care of hospitalised  adult and paediatric patients \\nof COVID – 19. It is not meant to replace clinical judgment or specialist consultation but rather to \\nstrengthen clinical management of these patients and provide to up -to-date guidance. Best \\npractices for COVID - 19 including IPC and optimized supportive care for severely ill patients as \\nconsidered essential. This document aims to provide clinicians with updated interim guidance on \\ntimely, effective, and safe supportive management of patients with COVID - 19, particularly those \\nwith severe acute respiratory illness and critically ill. \\n \\n \\n31st   March 2020 \\n1')"
      ]
     },
     "execution_count": 23,
     "metadata": {},
     "output_type": "execute_result"
    }
   ],
   "source": []
  },
  {
   "cell_type": "code",
   "execution_count": null,
   "metadata": {},
   "outputs": [],
   "source": []
  }
 ],
 "metadata": {
  "kernelspec": {
   "display_name": "langchain",
   "language": "python",
   "name": "python3"
  },
  "language_info": {
   "codemirror_mode": {
    "name": "ipython",
    "version": 3
   },
   "file_extension": ".py",
   "mimetype": "text/x-python",
   "name": "python",
   "nbconvert_exporter": "python",
   "pygments_lexer": "ipython3",
   "version": "3.12.9"
  }
 },
 "nbformat": 4,
 "nbformat_minor": 2
}
