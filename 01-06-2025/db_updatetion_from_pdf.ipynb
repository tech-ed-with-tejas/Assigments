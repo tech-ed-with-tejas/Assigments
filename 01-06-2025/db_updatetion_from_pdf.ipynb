{
 "cells": [
  {
   "cell_type": "code",
   "execution_count": 1,
   "metadata": {},
   "outputs": [],
   "source": [
    "from src.vector_store_manager.database_initialize import LocalChromaDBManager\n",
    "data_base_image = LocalChromaDBManager(collection_name=\"DietImages\",persist_directory=\"diet_pdf_database\")\n",
    "data_base_text= LocalChromaDBManager(collection_name=\"DietTextdata\",persist_directory=\"diet_pdf_database\")\n",
    "data_base_image.initilize_collection()\n",
    "data_base_text.initilize_collection()"
   ]
  },
  {
   "cell_type": "code",
   "execution_count": null,
   "metadata": {},
   "outputs": [],
   "source": [
    "from src.document_processing.process_data import DataProcessor\n",
    "ob = DataProcessor()\n",
    "paths = '/Users/tejasa/Downloads/Tejas A/personal/Assigments/01-06-2025/src/data/Diet.pdf'\n",
    "ob.inialize_pdf_path(pdf_path=paths)\n",
    "ob.get_data_from_pdf()\n",
    "ob.segergate_data()\n",
    "ob.get_cout_for_each_data_category()"
   ]
  },
  {
   "cell_type": "code",
   "execution_count": null,
   "metadata": {},
   "outputs": [],
   "source": [
    "for i in ob.get_text(ob.data_types['NarrativeText']):\n",
    "    print(i)"
   ]
  },
  {
   "cell_type": "code",
   "execution_count": null,
   "metadata": {},
   "outputs": [],
   "source": [
    "ob.image_embeddings_load_model()\n",
    "ob.text_embeddings()\n",
    "images = ob.handle_image_data()\n",
    "data_base_image.update_vector_store(embeddings=images[0],docs=images[2],meta_data=images[1],ids=images[3])\n",
    "# "
   ]
  },
  {
   "cell_type": "code",
   "execution_count": 13,
   "metadata": {},
   "outputs": [],
   "source": [
    "table = ob.handle_table_data()\n",
    "\n",
    "data_base_text.update_vector_store(embeddings=table[0],docs=table[2],meta_data=table[1],ids=table[3])\n",
    "\n"
   ]
  },
  {
   "cell_type": "code",
   "execution_count": null,
   "metadata": {},
   "outputs": [],
   "source": [
    "text = ob.handle_text_data()\n",
    "batch_size =1000\n",
    "for i in range(0,len(text[0])+1,batch_size):\n",
    "    print(i)\n",
    "    data_base_text.update_vector_store(embeddings=text[0][i:i+batch_size],docs=text[2][i:i+batch_size],meta_data=text[1][i:i+batch_size],ids=text[3][i:i+batch_size])\n",
    "    \n"
   ]
  },
  {
   "cell_type": "code",
   "execution_count": null,
   "metadata": {},
   "outputs": [],
   "source": []
  }
 ],
 "metadata": {
  "kernelspec": {
   "display_name": "langchain",
   "language": "python",
   "name": "python3"
  },
  "language_info": {
   "codemirror_mode": {
    "name": "ipython",
    "version": 3
   },
   "file_extension": ".py",
   "mimetype": "text/x-python",
   "name": "python",
   "nbconvert_exporter": "python",
   "pygments_lexer": "ipython3",
   "version": "3.12.9"
  }
 },
 "nbformat": 4,
 "nbformat_minor": 2
}
