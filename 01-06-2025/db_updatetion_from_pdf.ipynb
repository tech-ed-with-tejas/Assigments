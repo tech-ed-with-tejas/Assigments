{
 "cells": [
  {
   "cell_type": "code",
   "execution_count": 5,
   "metadata": {},
   "outputs": [],
   "source": [
    "from src.vector_store_manager.database_initialize import LocalChromaDBManager\n",
    "data_base_image = LocalChromaDBManager(collection_name=\"DietImages\",persist_directory=\"diet_pdf_database\")\n",
    "data_base_text= LocalChromaDBManager(collection_name=\"DietTextdata\",persist_directory=\"diet_pdf_database\")\n",
    "data_base_image.initilize_collection()\n",
    "data_base_text.initilize_collection()"
   ]
  },
  {
   "cell_type": "code",
   "execution_count": 6,
   "metadata": {},
   "outputs": [
    {
     "name": "stderr",
     "output_type": "stream",
     "text": [
      "/opt/miniconda3/envs/langchain/lib/python3.12/site-packages/tqdm/auto.py:21: TqdmWarning: IProgress not found. Please update jupyter and ipywidgets. See https://ipywidgets.readthedocs.io/en/stable/user_install.html\n",
      "  from .autonotebook import tqdm as notebook_tqdm\n"
     ]
    },
    {
     "name": "stdout",
     "output_type": "stream",
     "text": [
      "initialized\n"
     ]
    },
    {
     "name": "stderr",
     "output_type": "stream",
     "text": [
      "The `max_size` parameter is deprecated and will be removed in v4.26. Please specify in `size['longest_edge'] instead`.\n"
     ]
    },
    {
     "name": "stdout",
     "output_type": "stream",
     "text": [
      "Total elemnt found for data caterogry Image  is  44\n",
      "Total elemnt found for data caterogry FigureCaption  is  9\n",
      "Total elemnt found for data caterogry Title  is  441\n",
      "Total elemnt found for data caterogry NarrativeText  is  475\n",
      "Total elemnt found for data caterogry Table  is  53\n",
      "Total elemnt found for data caterogry UncategorizedText  is  284\n",
      "Total elemnt found for data caterogry ListItem  is  285\n",
      "Total elemnt found for data caterogry Footer  is  104\n",
      "Total elemnt found for data caterogry Header  is  3\n"
     ]
    }
   ],
   "source": [
    "from src.document_processing.process_data import DataProcessor\n",
    "ob = DataProcessor()\n",
    "paths = '/Users/tejasa/Desktop/Tejas A/personal/Assigments/01-06-2025/src/data/Diet.pdf'\n",
    "ob.inialize_pdf_path(pdf_path=paths)\n",
    "ob.get_data_from_pdf()\n",
    "ob.segergate_data()\n",
    "ob.get_cout_for_each_data_category()"
   ]
  },
  {
   "cell_type": "code",
   "execution_count": 12,
   "metadata": {},
   "outputs": [
    {
     "name": "stderr",
     "output_type": "stream",
     "text": [
      "Using a slow image processor as `use_fast` is unset and a slow processor was saved with this model. `use_fast=True` will be the default behavior in v4.52, even if the model was saved with a slow processor. This will result in minor differences in outputs. You'll still be able to use a slow processor with `use_fast=False`.\n"
     ]
    }
   ],
   "source": [
    "ob.image_embeddings_load_model()\n",
    "ob.text_embeddings()\n",
    "images = ob.handle_image_data()\n",
    "data_base_image.update_vector_store(embeddings=images[0],docs=images[2],meta_data=images[1],ids=images[3])\n",
    "# "
   ]
  },
  {
   "cell_type": "code",
   "execution_count": 13,
   "metadata": {},
   "outputs": [],
   "source": [
    "table = ob.handle_table_data()\n",
    "\n",
    "data_base_text.update_vector_store(embeddings=table[0],docs=table[2],meta_data=table[1],ids=table[3])\n",
    "\n"
   ]
  },
  {
   "cell_type": "code",
   "execution_count": null,
   "metadata": {},
   "outputs": [],
   "source": [
    "text = ob.handle_text_data()\n",
    "batch_size =1000\n",
    "for i in range(0,len(text[0])+batch_size,batch_size):\n",
    "    print(i)\n",
    "    data_base_text.update_vector_store(embeddings=text[0][i:i+batch_size],docs=text[2][i:i+batch_size],meta_data=text[1][i:i+batch_size],ids=text[3][i:i+batch_size])\n",
    "    \n"
   ]
  },
  {
   "cell_type": "code",
   "execution_count": null,
   "metadata": {},
   "outputs": [],
   "source": []
  }
 ],
 "metadata": {
  "kernelspec": {
   "display_name": "langchain",
   "language": "python",
   "name": "python3"
  },
  "language_info": {
   "codemirror_mode": {
    "name": "ipython",
    "version": 3
   },
   "file_extension": ".py",
   "mimetype": "text/x-python",
   "name": "python",
   "nbconvert_exporter": "python",
   "pygments_lexer": "ipython3",
   "version": "3.12.9"
  }
 },
 "nbformat": 4,
 "nbformat_minor": 2
}
